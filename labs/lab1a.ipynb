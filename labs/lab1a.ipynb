{
 "cells": [
  {
   "cell_type": "markdown",
   "metadata": {
    "id": "dzNng6vCL9eP"
   },
   "source": [
    "# CSCI 3397/PSYC 3317: Lab 1a: Setup\n",
    "\n",
    "**Posted:** Tuesday, January 18, 2022\n",
    "\n",
    "**Due:** Tuesday, January 25, 2022\n",
    "\n",
    "__Total Points__: 8 pts\n",
    "\n",
    "__Submission__: please rename the .ipynb file as __\\<your_username\\>_lab1a.ipynb__ before you submit it to canvas. Example: weidf_lab1a.ipynb.\n",
    "\n",
    "Acknowledgement: Parts adapted from the Colab by Kevin Zakka for the Spring 2020 edition of [cs231n]. Yufan Yang developed the exercise."
   ]
  },
  {
   "cell_type": "markdown",
   "metadata": {
    "id": "AW8NutOCx4qG"
   },
   "source": [
    "<hr>"
   ]
  },
  {
   "cell_type": "markdown",
   "metadata": {
    "id": "9t1gKp9PL9eV"
   },
   "source": [
    "## <b>1. Github: Code management</b>\n",
    "\n",
    "In software engineering, it is common to use software like `git` to better manage the codebase among different contributors. In this course, you only need to remember the basics and you can learn more [[here]](https://www.freecodecamp.org/news/learn-the-basics-of-git-in-under-10-minutes-da548267cc91/).\n",
    "\n",
    "The instructor and TAs are the developers of the assignment materials, and you can simply use the following commands in the terminal to obtain the materials.\n",
    "\n",
    "- Go to the jupyterhub: https://csci-3397-01.bc.edu/\n",
    "\n",
    "- Open a terminal\n",
    "\n",
    "- (once and for all) Clone the repository of the codebase\n",
    "\n",
    "```\n",
    "git clone https://github.com/bc-cv/csci3397-code.git\n",
    "```\n",
    "- (every time before starting the assignment) Obtain new files\n",
    "\n",
    "```\n",
    "cd csci3397-code/\n",
    "git pull\n",
    "\n",
    "```"
   ]
  },
  {
   "cell_type": "markdown",
   "metadata": {
    "id": "HoE8z2Tbx4qH",
    "tags": []
   },
   "source": [
    "## <b>2. JupyterLab: Cloud computing on the browser</b>\n",
    "\n",
    "\n",
    "In a nutshell, JupyterLab allows you to <b>control</b> a Linux machine (using Terminal) and <b>program</b> in Python (and other popular languages) in an interacted way."
   ]
  },
  {
   "cell_type": "markdown",
   "metadata": {
    "id": "L9ZNtF3Ux4qI"
   },
   "source": [
    "### 2.1 Create a new file\n",
    "In this course, you will either create a \"Terminal\" to obtain new assingments via Github (see next section), or a \"Jupyter notebook\" for programming tasks.\n",
    "\n",
    "- First select the \"folder\" icon on the left sidebar and click the \"+\" button on the top-left corner (or click \"File\" -> \"New\")\n",
    "\n",
    "<img width=\"150\" src='lab1/jupyterlab_create.png'>\n",
    "\n",
    "\n",
    "- Select Jupyter notebook or terminal for your need.\n",
    "\n",
    "<img width=\"250\" src='lab1/jupyterlab_create_file.png'>"
   ]
  },
  {
   "cell_type": "markdown",
   "metadata": {
    "id": "HvxINhbDx4qI",
    "jp-MarkdownHeadingCollapsed": true,
    "tags": []
   },
   "source": [
    "### 2.2 Linux terminal\n",
    "\n",
    "In this course, you only need to remember the basics in the \"Git\" section and you can learn more [[here]](https://www.hostinger.com/tutorials/linux-commands)."
   ]
  },
  {
   "cell_type": "markdown",
   "metadata": {
    "id": "15PkpQ3gx4qI"
   },
   "source": [
    "### 2.3 Jupyter notebook\n",
    "In this course, you only need to remember the following basics and you can learn more [[here]](https://realpython.com/jupyter-notebook-introduction/)\n",
    "\n",
    "- The notebook is nothing but a collection of \"cells\" (building blocks). \n",
    "\n",
    "- Create a cell. On the top row of the noteboom, click on the \"+\" button to create the cell.\n",
    "\n",
    "<img width=\"250\" src='lab1/jupyterlab_create_cell.png'>\n",
    "\n",
    "- Change cell type. You only need to use two types of cells: \"Code\" to write python code and \"Markdown\" to write text. After selecting a cell, click the cell type box and choose the desired cell type.\n",
    "\n",
    "<img width=\"250\" src='lab1/jupyterlab_create_cell_type.png'>\n",
    "\n",
    "- Run a cell. Click on the \"run\" icon on the notebook memu or use the keyboard shortcut \"Ctrl + Enter\".\n",
    "\n",
    "<img width=\"250\" src='lab1/jupyterlab_run_cell.png'>\n",
    "\n",
    "\n",
    "- Delete a cell. Click on the \"cut\" icon on the notebook menu. Or you can first click on the left hand side of the cell and type \"d\" twice on the keyboard. \n",
    "\n",
    "<img width=\"250\" src='lab1/jupyterlab_del_cell.png'>\n",
    "\n",
    "- For more keyboard shortcuts, click \"Edit\" on the main menu. As expected, your favorite \"copy\", \"paste\", and \"undo\" keyare all applicable!"
   ]
  },
  {
   "cell_type": "markdown",
   "metadata": {
    "id": "pUTmVdpOx4qJ"
   },
   "source": [
    "### 2.4 Assignment submission\n",
    "\n",
    "- Download the notebook: \"File\" -> \"Download\"\n",
    "\n",
    "- Upload it to the corresponding \"Assignemnt\" on Canvas"
   ]
  },
  {
   "cell_type": "markdown",
   "metadata": {
    "id": "FNj0HjxBx4qJ"
   },
   "source": [
    "## <b>3. Python Basics</b>"
   ]
  },
  {
   "cell_type": "markdown",
   "metadata": {
    "id": "U1PvreR9L9eW"
   },
   "source": [
    "In this tutorial, we will cover:\n",
    "* Basic data types: numbers, booleans, strings\n",
    "* Containers: lists, tuples, dictionaries, sets, tuples\n",
    "* Functions\n",
    "* Classes\n",
    "\n",
    "For a more detailed tutorial, check [[here]](https://www.codecademy.com/learn/learn-python-3). "
   ]
  },
  {
   "cell_type": "markdown",
   "metadata": {
    "id": "jwcq21F4x4qK"
   },
   "source": [
    "### 3.0 Python version\n",
    "\n",
    "As of Janurary 1, 2020, Python has [officially dropped support](https://www.python.org/doc/sunset-python-2/) for `python2`. We'll be using Python 3 for this iteration of the course. You can check your Python version with the following command line: (with \"!\" in front, you can run terminal command in the notebook)"
   ]
  },
  {
   "cell_type": "code",
   "execution_count": null,
   "metadata": {
    "colab": {
     "base_uri": "https://localhost:8080/",
     "height": 34
    },
    "id": "1L4Am0QATgOc",
    "outputId": "bb5ee3ac-8683-44ab-e599-a2077510f327"
   },
   "outputs": [],
   "source": [
    "! python --version"
   ]
  },
  {
   "cell_type": "markdown",
   "metadata": {
    "id": "NwS_hu4xL9eo"
   },
   "source": [
    "### 3.1 Basic data types"
   ]
  },
  {
   "cell_type": "markdown",
   "metadata": {
    "id": "DL5sMSZ9L9eq"
   },
   "source": [
    "#### Numbers"
   ]
  },
  {
   "cell_type": "markdown",
   "metadata": {
    "id": "MGS0XEWoL9er"
   },
   "source": [
    "Integers and floats work as you would expect from other languages:"
   ]
  },
  {
   "cell_type": "code",
   "execution_count": null,
   "metadata": {
    "colab": {
     "base_uri": "https://localhost:8080/"
    },
    "id": "KheDr_zDL9es",
    "outputId": "1603c348-64a0-4f5d-e108-21990f25c93e"
   },
   "outputs": [],
   "source": [
    "x = 3\n",
    "print(x, type(x))"
   ]
  },
  {
   "cell_type": "code",
   "execution_count": null,
   "metadata": {
    "colab": {
     "base_uri": "https://localhost:8080/",
     "height": 86
    },
    "id": "sk_8DFcuL9ey",
    "outputId": "dd60a271-3457-465d-e16a-41acf12a56ab"
   },
   "outputs": [],
   "source": [
    "print(x + 1)   # Addition\n",
    "print(x - 1)   # Subtraction\n",
    "print(x * 2)   # Multiplication\n",
    "print(x ** 2)  # Exponentiation"
   ]
  },
  {
   "cell_type": "code",
   "execution_count": null,
   "metadata": {
    "colab": {
     "base_uri": "https://localhost:8080/",
     "height": 52
    },
    "id": "U4Jl8K0tL9e4",
    "outputId": "07e3db14-3781-42b7-8ba6-042b3f9f72ba"
   },
   "outputs": [],
   "source": [
    "x += 1\n",
    "print(x)\n",
    "x *= 2\n",
    "print(x)"
   ]
  },
  {
   "cell_type": "code",
   "execution_count": null,
   "metadata": {
    "colab": {
     "base_uri": "https://localhost:8080/",
     "height": 52
    },
    "id": "w-nZ0Sg_L9e9",
    "outputId": "3aa579f8-9540-46ef-935e-be887781ecb4"
   },
   "outputs": [],
   "source": [
    "y = 2.5\n",
    "print(type(y))\n",
    "print(y, y + 1, y * 2, y ** 2)"
   ]
  },
  {
   "cell_type": "markdown",
   "metadata": {
    "id": "EqRS7qhBL9fC"
   },
   "source": [
    "#### Booleans"
   ]
  },
  {
   "cell_type": "markdown",
   "metadata": {
    "id": "Nv_LIVOJL9fD"
   },
   "source": [
    "Python implements all of the usual operators for Boolean logic, but uses English words rather than symbols (`&&`, `||`, etc.):"
   ]
  },
  {
   "cell_type": "code",
   "execution_count": null,
   "metadata": {
    "colab": {
     "base_uri": "https://localhost:8080/",
     "height": 34
    },
    "id": "RvoImwgGL9fE",
    "outputId": "1517077b-edca-463f-857b-6a8c386cd387"
   },
   "outputs": [],
   "source": [
    "t, f = True, False\n",
    "print(type(t))"
   ]
  },
  {
   "cell_type": "markdown",
   "metadata": {
    "id": "YQgmQfOgL9fI"
   },
   "source": [
    "Now we let's look at the operations:"
   ]
  },
  {
   "cell_type": "code",
   "execution_count": null,
   "metadata": {
    "colab": {
     "base_uri": "https://localhost:8080/",
     "height": 86
    },
    "id": "6zYm7WzCL9fK",
    "outputId": "f3cebe76-5af4-473a-8127-88a1fd60560f"
   },
   "outputs": [],
   "source": [
    "print(t and f) # Logical AND;\n",
    "print(t or f)  # Logical OR;\n",
    "print(not t)   # Logical NOT;\n",
    "print(t != f)  # Logical XOR;"
   ]
  },
  {
   "cell_type": "markdown",
   "metadata": {
    "id": "UQnQWFEyL9fP"
   },
   "source": [
    "#### Strings"
   ]
  },
  {
   "cell_type": "code",
   "execution_count": null,
   "metadata": {
    "colab": {
     "base_uri": "https://localhost:8080/",
     "height": 34
    },
    "id": "AijEDtPFL9fP",
    "outputId": "2a6b0cd7-58f1-43cf-e6b7-bf940d532549"
   },
   "outputs": [],
   "source": [
    "hello = 'hello'   # String literals can use single quotes\n",
    "world = \"world\"   # or double quotes; it does not matter\n",
    "print(hello, len(hello))"
   ]
  },
  {
   "cell_type": "code",
   "execution_count": null,
   "metadata": {
    "colab": {
     "base_uri": "https://localhost:8080/",
     "height": 34
    },
    "id": "saDeaA7hL9fT",
    "outputId": "2837d0ab-9ae5-4053-d087-bfa0af81c344"
   },
   "outputs": [],
   "source": [
    "hw = hello + ' ' + world  # String concatenation\n",
    "print(hw)"
   ]
  },
  {
   "cell_type": "code",
   "execution_count": null,
   "metadata": {
    "colab": {
     "base_uri": "https://localhost:8080/",
     "height": 34
    },
    "id": "Nji1_UjYL9fY",
    "outputId": "0149b0ca-425a-4a34-8e24-8dff7080922e"
   },
   "outputs": [],
   "source": [
    "hw12 = '{} {} {}'.format(hello, world, 12)  # string formatting\n",
    "print(hw12)"
   ]
  },
  {
   "cell_type": "markdown",
   "metadata": {},
   "source": [
    "C-style formating. The % operator can also be used for string formatting. It interprets the left argument much like a printf()-style format as in C language string to be applied to the right argument. \n",
    "\n",
    "More examples are here: [[link]](https://www.geeksforgeeks.org/python-output-formatting/)"
   ]
  },
  {
   "cell_type": "code",
   "execution_count": null,
   "metadata": {},
   "outputs": [],
   "source": [
    "# %.2f: float number with 2 decimal numbers\n",
    "print('%s, %d, %.2f' % (\"hello world\", 10, 0.4444) )"
   ]
  },
  {
   "cell_type": "markdown",
   "metadata": {
    "id": "bUpl35bIL9fc"
   },
   "source": [
    "String objects have a bunch of useful methods; for example:"
   ]
  },
  {
   "cell_type": "code",
   "execution_count": null,
   "metadata": {
    "colab": {
     "base_uri": "https://localhost:8080/",
     "height": 121
    },
    "id": "VOxGatlsL9fd",
    "outputId": "ab009df3-8643-4d3e-f85f-a813b70db9cb"
   },
   "outputs": [],
   "source": [
    "s = \"hello\"\n",
    "print(s.capitalize())  # Capitalize a string\n",
    "print(s.upper())       # Convert a string to uppercase; prints \"HELLO\"\n",
    "print(s.replace('l', '(ell)'))  # Replace all instances of one substring with another\n",
    "print('  world '.strip())  # Strip leading and trailing whitespace"
   ]
  },
  {
   "cell_type": "markdown",
   "metadata": {},
   "source": [
    "You can find a list of all string methods in the [documentation](https://docs.python.org/3.7/library/stdtypes.html#string-methods)."
   ]
  },
  {
   "cell_type": "markdown",
   "metadata": {
    "id": "p-6hClFjL9fk"
   },
   "source": [
    "### 3.2 Containers"
   ]
  },
  {
   "cell_type": "markdown",
   "metadata": {
    "id": "FD9H18eQL9fk"
   },
   "source": [
    "Python includes several built-in container types: lists, dictionaries, sets, and tuples."
   ]
  },
  {
   "cell_type": "markdown",
   "metadata": {
    "id": "UsIWOe0LL9fn"
   },
   "source": [
    "#### Lists"
   ]
  },
  {
   "cell_type": "markdown",
   "metadata": {
    "id": "wzxX7rgWL9fn"
   },
   "source": [
    "A list is the Python equivalent of an array, but is resizeable and can contain elements of different types:"
   ]
  },
  {
   "cell_type": "code",
   "execution_count": null,
   "metadata": {
    "colab": {
     "base_uri": "https://localhost:8080/",
     "height": 52
    },
    "id": "hk3A8pPcL9fp",
    "outputId": "b545939a-580c-4356-db95-7ad3670b46e4"
   },
   "outputs": [],
   "source": [
    "xs = [3, 1, 2]   # Create a list\n",
    "print(xs, xs[2])\n",
    "print(xs[-1])     # Negative indices count from the end of the list; prints \"2\""
   ]
  },
  {
   "cell_type": "code",
   "execution_count": null,
   "metadata": {
    "colab": {
     "base_uri": "https://localhost:8080/",
     "height": 34
    },
    "id": "YCjCy_0_L9ft",
    "outputId": "417c54ff-170b-4372-9099-0f756f8e48af"
   },
   "outputs": [],
   "source": [
    "xs[2] = 'foo'    # Lists can contain elements of different types\n",
    "print(xs)"
   ]
  },
  {
   "cell_type": "code",
   "execution_count": null,
   "metadata": {
    "colab": {
     "base_uri": "https://localhost:8080/",
     "height": 34
    },
    "id": "vJ0x5cF-L9fx",
    "outputId": "a97731a3-70e1-4553-d9e0-2aea227cac80"
   },
   "outputs": [],
   "source": [
    "xs.append('bar') # Add a new element to the end of the list\n",
    "print(xs)  "
   ]
  },
  {
   "cell_type": "code",
   "execution_count": null,
   "metadata": {
    "colab": {
     "base_uri": "https://localhost:8080/",
     "height": 34
    },
    "id": "cxVCNRTNL9f1",
    "outputId": "508fbe59-20aa-48b5-a1b2-f90363e7a104"
   },
   "outputs": [],
   "source": [
    "x = xs.pop()     # Remove and return the last element of the list\n",
    "print(x, xs)"
   ]
  },
  {
   "cell_type": "markdown",
   "metadata": {
    "id": "ilyoyO34L9f4"
   },
   "source": [
    "As usual, you can find all the gory details about lists in the [documentation](https://docs.python.org/3.7/tutorial/datastructures.html#more-on-lists)."
   ]
  },
  {
   "cell_type": "markdown",
   "metadata": {
    "id": "ovahhxd_L9f5"
   },
   "source": [
    "##### Slicing"
   ]
  },
  {
   "cell_type": "markdown",
   "metadata": {
    "id": "YeSYKhv9L9f6"
   },
   "source": [
    "In addition to accessing list elements one at a time, Python provides concise syntax to access sublists; this is known as slicing:"
   ]
  },
  {
   "cell_type": "code",
   "execution_count": null,
   "metadata": {
    "colab": {
     "base_uri": "https://localhost:8080/",
     "height": 139
    },
    "id": "ninq666bL9f6",
    "outputId": "c3c2ed92-7358-4fdb-bbc0-e90f82e7e941"
   },
   "outputs": [],
   "source": [
    "nums = list(range(5))    # range is a built-in function that creates a list of integers\n",
    "print(nums)         # Prints \"[0, 1, 2, 3, 4]\"\n",
    "print(nums[2:4])    # Get a slice from index 2 to 4 (exclusive); prints \"[2, 3]\"\n",
    "print(nums[2:])     # Get a slice from index 2 to the end; prints \"[2, 3, 4]\"\n",
    "print(nums[:2])     # Get a slice from the start to index 2 (exclusive); prints \"[0, 1]\"\n",
    "print(nums[:])      # Get a slice of the whole list; prints [\"0, 1, 2, 3, 4]\"\n",
    "print(nums[:-1])    # Slice indices can be negative; prints [\"0, 1, 2, 3]\"\n",
    "nums[2:4] = [8, 9] # Assign a new sublist to a slice\n",
    "print(nums)         # Prints \"[0, 1, 8, 9, 4]\""
   ]
  },
  {
   "cell_type": "markdown",
   "metadata": {
    "id": "UONpMhF4L9f_"
   },
   "source": [
    "##### Loops"
   ]
  },
  {
   "cell_type": "markdown",
   "metadata": {
    "id": "_DYz1j6QL9f_"
   },
   "source": [
    "You can loop over the elements of a list like this:"
   ]
  },
  {
   "cell_type": "code",
   "execution_count": null,
   "metadata": {
    "colab": {
     "base_uri": "https://localhost:8080/",
     "height": 69
    },
    "id": "4cCOysfWL9gA",
    "outputId": "560e46c7-279c-409a-838c-64bea8d321c4"
   },
   "outputs": [],
   "source": [
    "animals = ['cat', 'dog', 'monkey']\n",
    "for animal in animals:\n",
    "    print(animal)"
   ]
  },
  {
   "cell_type": "markdown",
   "metadata": {
    "id": "KxIaQs7pL9gE"
   },
   "source": [
    "If you want access to the index of each element within the body of a loop, use the built-in `enumerate` function:"
   ]
  },
  {
   "cell_type": "code",
   "execution_count": null,
   "metadata": {
    "colab": {
     "base_uri": "https://localhost:8080/",
     "height": 69
    },
    "id": "JjGnDluWL9gF",
    "outputId": "81421905-17ea-4c5a-bcc0-176de19fd9bd"
   },
   "outputs": [],
   "source": [
    "animals = ['cat', 'dog', 'monkey']\n",
    "for idx, animal in enumerate(animals):\n",
    "    print('#{}: {}'.format(idx + 1, animal))"
   ]
  },
  {
   "cell_type": "markdown",
   "metadata": {
    "id": "arrLCcMyL9gK"
   },
   "source": [
    "##### List comprehensions"
   ]
  },
  {
   "cell_type": "markdown",
   "metadata": {
    "id": "5Qn2jU_pL9gL"
   },
   "source": [
    "When programming, frequently we want to transform one type of data into another. As a simple example, consider the following code that computes square numbers:"
   ]
  },
  {
   "cell_type": "code",
   "execution_count": null,
   "metadata": {
    "colab": {
     "base_uri": "https://localhost:8080/",
     "height": 34
    },
    "id": "IVNEwoMXL9gL",
    "outputId": "d571445b-055d-45f0-f800-24fd76ceec5a"
   },
   "outputs": [],
   "source": [
    "nums = [0, 1, 2, 3, 4]\n",
    "squares = []\n",
    "for x in nums:\n",
    "    squares.append(x ** 2)\n",
    "print(squares)"
   ]
  },
  {
   "cell_type": "markdown",
   "metadata": {
    "id": "7DmKVUFaL9gQ"
   },
   "source": [
    "You can make this code simpler using a list comprehension:"
   ]
  },
  {
   "cell_type": "code",
   "execution_count": null,
   "metadata": {
    "colab": {
     "base_uri": "https://localhost:8080/",
     "height": 34
    },
    "id": "kZxsUfV6L9gR",
    "outputId": "4254a7d4-58ba-4f70-a963-20c46b485b72"
   },
   "outputs": [],
   "source": [
    "nums = [0, 1, 2, 3, 4]\n",
    "squares = [x ** 2 for x in nums]\n",
    "print(squares)"
   ]
  },
  {
   "cell_type": "markdown",
   "metadata": {
    "id": "-D8ARK7tL9gV"
   },
   "source": [
    "List comprehensions can also contain conditions:"
   ]
  },
  {
   "cell_type": "code",
   "execution_count": null,
   "metadata": {
    "colab": {
     "base_uri": "https://localhost:8080/",
     "height": 34
    },
    "id": "yUtgOyyYL9gV",
    "outputId": "1ae7ab58-8119-44dc-8e57-fda09197d026"
   },
   "outputs": [],
   "source": [
    "nums = [0, 1, 2, 3, 4]\n",
    "even_squares = [x ** 2 for x in nums if x % 2 == 0]\n",
    "print(even_squares)"
   ]
  },
  {
   "cell_type": "markdown",
   "metadata": {
    "id": "H8xsUEFpL9gZ"
   },
   "source": [
    "#### Dictionaries"
   ]
  },
  {
   "cell_type": "markdown",
   "metadata": {
    "id": "kkjAGMAJL9ga"
   },
   "source": [
    "A dictionary stores (key, value) pairs, similar to a `Map` in Java or an object in Javascript. You can use it like this:"
   ]
  },
  {
   "cell_type": "code",
   "execution_count": null,
   "metadata": {
    "colab": {
     "base_uri": "https://localhost:8080/",
     "height": 52
    },
    "id": "XBYI1MrYL9gb",
    "outputId": "8e24c1da-0fc0-4b4c-a3e6-6f758a53b7da"
   },
   "outputs": [],
   "source": [
    "d = {'cat': 'cute', 'dog': 'furry'}  # Create a new dictionary with some data\n",
    "print(d['cat'])       # Get an entry from a dictionary; prints \"cute\"\n",
    "print('cat' in d)     # Check if a dictionary has a given key; prints \"True\""
   ]
  },
  {
   "cell_type": "code",
   "execution_count": null,
   "metadata": {
    "colab": {
     "base_uri": "https://localhost:8080/",
     "height": 34
    },
    "id": "pS7e-G-HL9gf",
    "outputId": "feb4bf18-c0a3-42a2-eaf5-3fc390f36dcf"
   },
   "outputs": [],
   "source": [
    "d['fish'] = 'wet'    # Set an entry in a dictionary\n",
    "print(d['fish'])      # Prints \"wet\""
   ]
  },
  {
   "cell_type": "code",
   "execution_count": null,
   "metadata": {
    "colab": {
     "base_uri": "https://localhost:8080/",
     "height": 165
    },
    "id": "tFY065ItL9gi",
    "outputId": "7e42a5f0-1856-4608-a927-0930ab37a66c"
   },
   "outputs": [],
   "source": [
    "print(d['monkey'])  # KeyError: 'monkey' not a key of d"
   ]
  },
  {
   "cell_type": "code",
   "execution_count": null,
   "metadata": {
    "colab": {
     "base_uri": "https://localhost:8080/",
     "height": 52
    },
    "id": "8TjbEWqML9gl",
    "outputId": "ef14d05e-401d-4d23-ed1a-0fe6b4c77d6f"
   },
   "outputs": [],
   "source": [
    "print(d.get('monkey', 'N/A'))  # Get an element with a default; prints \"N/A\"\n",
    "print(d.get('fish', 'N/A'))    # Get an element with a default; prints \"wet\""
   ]
  },
  {
   "cell_type": "code",
   "execution_count": null,
   "metadata": {
    "colab": {
     "base_uri": "https://localhost:8080/",
     "height": 34
    },
    "id": "0EItdNBJL9go",
    "outputId": "652a950f-b0c2-4623-98bd-0191b300cd57"
   },
   "outputs": [],
   "source": [
    "del d['fish']        # Remove an element from a dictionary\n",
    "print(d.get('fish', 'N/A')) # \"fish\" is no longer a key; prints \"N/A\""
   ]
  },
  {
   "cell_type": "markdown",
   "metadata": {
    "id": "wqm4dRZNL9gr"
   },
   "source": [
    "You can find all you need to know about dictionaries in the [documentation](https://docs.python.org/2/library/stdtypes.html#dict)."
   ]
  },
  {
   "cell_type": "markdown",
   "metadata": {
    "id": "IxwEqHlGL9gr"
   },
   "source": [
    "It is easy to iterate over the keys in a dictionary:"
   ]
  },
  {
   "cell_type": "code",
   "execution_count": null,
   "metadata": {
    "colab": {
     "base_uri": "https://localhost:8080/",
     "height": 69
    },
    "id": "rYfz7ZKNL9gs",
    "outputId": "155bdb17-3179-4292-c832-8166e955e942"
   },
   "outputs": [],
   "source": [
    "d = {'person': 2, 'cat': 4, 'spider': 8}\n",
    "for animal, legs in d.items():\n",
    "    print('A {} has {} legs'.format(animal, legs))"
   ]
  },
  {
   "cell_type": "markdown",
   "metadata": {
    "id": "17sxiOpzL9gz"
   },
   "source": [
    "Dictionary comprehensions: These are similar to list comprehensions, but allow you to easily construct dictionaries. For example:"
   ]
  },
  {
   "cell_type": "code",
   "execution_count": null,
   "metadata": {
    "colab": {
     "base_uri": "https://localhost:8080/",
     "height": 34
    },
    "id": "8PB07imLL9gz",
    "outputId": "e9ddf886-39ed-4f35-dd80-64a19d2eec9b"
   },
   "outputs": [],
   "source": [
    "nums = [0, 1, 2, 3, 4]\n",
    "even_num_to_square = {x: x ** 2 for x in nums if x % 2 == 0}\n",
    "print(even_num_to_square)"
   ]
  },
  {
   "cell_type": "markdown",
   "metadata": {
    "id": "qPsHSKB1L9hF"
   },
   "source": [
    "#### Tuples"
   ]
  },
  {
   "cell_type": "markdown",
   "metadata": {
    "id": "kucc0LKVL9hG"
   },
   "source": [
    "A tuple is an (immutable) ordered list of values. A tuple is in many ways similar to a list; one of the most important differences is that tuples can be used as keys in dictionaries and as elements of sets, while lists cannot. Here is a trivial example:"
   ]
  },
  {
   "cell_type": "code",
   "execution_count": null,
   "metadata": {
    "colab": {
     "base_uri": "https://localhost:8080/",
     "height": 69
    },
    "id": "9wHUyTKxL9hH",
    "outputId": "cdc5f620-04fe-4b0b-df7a-55b061d23d88"
   },
   "outputs": [],
   "source": [
    "d = {(x, x + 1): x for x in range(10)}  # Create a dictionary with tuple keys\n",
    "t = (5, 6)       # Create a tuple\n",
    "print(type(t))\n",
    "print(d[t])       \n",
    "print(d[(1, 2)])"
   ]
  },
  {
   "cell_type": "code",
   "execution_count": null,
   "metadata": {
    "colab": {
     "base_uri": "https://localhost:8080/",
     "height": 165
    },
    "id": "HoO8zYKzL9hJ",
    "outputId": "28862bfc-0298-40d7-f8c4-168e109d2d93"
   },
   "outputs": [],
   "source": [
    "t[0] = 1"
   ]
  },
  {
   "cell_type": "markdown",
   "metadata": {
    "id": "AXA4jrEOL9hM"
   },
   "source": [
    "### 3.3 Functions"
   ]
  },
  {
   "cell_type": "markdown",
   "metadata": {
    "id": "WaRms-QfL9hN"
   },
   "source": [
    "Python functions are defined using the `def` keyword. For example:"
   ]
  },
  {
   "cell_type": "code",
   "execution_count": null,
   "metadata": {
    "colab": {
     "base_uri": "https://localhost:8080/",
     "height": 69
    },
    "id": "kiMDUr58L9hN",
    "outputId": "9f53bf9a-7b2a-4c51-9def-398e4677cd6c"
   },
   "outputs": [],
   "source": [
    "def sign(x):\n",
    "    if x > 0:\n",
    "        return 'positive'\n",
    "    elif x < 0:\n",
    "        return 'negative'\n",
    "    else:\n",
    "        return 'zero'\n",
    "\n",
    "for x in [-1, 0, 1]:\n",
    "    print(sign(x))"
   ]
  },
  {
   "cell_type": "markdown",
   "metadata": {
    "id": "U-QJFt8TL9hR"
   },
   "source": [
    "We will often define functions to take optional keyword arguments, like this:"
   ]
  },
  {
   "cell_type": "code",
   "execution_count": null,
   "metadata": {
    "colab": {
     "base_uri": "https://localhost:8080/",
     "height": 52
    },
    "id": "PfsZ3DazL9hR",
    "outputId": "6e6af832-67d8-4d8c-949b-335927684ae3"
   },
   "outputs": [],
   "source": [
    "def hello(name, loud=False):\n",
    "    if loud:\n",
    "        print('HELLO, {}'.format(name.upper()))\n",
    "    else:\n",
    "        print('Hello, {}!'.format(name))\n",
    "\n",
    "hello('Bob')\n",
    "hello('Fred', loud=True)"
   ]
  },
  {
   "cell_type": "markdown",
   "metadata": {
    "id": "ObA9PRtQL9hT"
   },
   "source": [
    "### 3.4 Classes"
   ]
  },
  {
   "cell_type": "markdown",
   "metadata": {
    "id": "hAzL_lTkL9hU"
   },
   "source": [
    "The syntax for defining classes in Python is straightforward:"
   ]
  },
  {
   "cell_type": "code",
   "execution_count": null,
   "metadata": {
    "colab": {
     "base_uri": "https://localhost:8080/"
    },
    "id": "RWdbaGigL9hU",
    "outputId": "4b3b198e-76e7-41db-8565-8ec95656b29a"
   },
   "outputs": [],
   "source": [
    "class Greeter:\n",
    "    # Constructor\n",
    "    def __init__(self, name):\n",
    "        self.name = name  # Create an instance variable\n",
    "\n",
    "    # Instance method\n",
    "    def greet(self, loud=False):\n",
    "        if loud:\n",
    "          print('HELLO, {}'.format(self.name.upper()))\n",
    "        else:\n",
    "          print('Hello, {}!'.format(self.name))\n",
    "\n",
    "g = Greeter('Fred')  # Construct an instance of the Greeter class\n",
    "g.greet()            # Call an instance method; prints \"Hello, Fred\"\n",
    "g.greet(loud=True)   # Call an instance method; prints \"HELLO, FRED!\""
   ]
  },
  {
   "cell_type": "markdown",
   "metadata": {
    "id": "Q63LC43Vx4qY"
   },
   "source": [
    "## [8 pts] Exercise"
   ]
  },
  {
   "cell_type": "markdown",
   "metadata": {
    "id": "OfsC3MVAioKo"
   },
   "source": [
    "### (1) [1 pt] Data type (Sec. 3.1)\n",
    "Print out a string, an integer, a boolean, and a float in one line. The values can be anything you like. An example output:\n",
    "\n",
    "`Hello 10 True 1.4`"
   ]
  },
  {
   "cell_type": "code",
   "execution_count": null,
   "metadata": {
    "colab": {
     "base_uri": "https://localhost:8080/"
    },
    "id": "LVVF7Uu2jI8i",
    "outputId": "131b7be1-7382-426f-827e-2f9ceaed559d"
   },
   "outputs": [],
   "source": [
    "#### your code starts ####\n",
    "\n",
    "#### your code ends ####"
   ]
  },
  {
   "cell_type": "markdown",
   "metadata": {
    "id": "AYTzGAWCfcY4"
   },
   "source": [
    "### (2) [1 pt] Lists (Sec. 3.2)\n",
    "Triple every element of the following list, then print out the resulting list"
   ]
  },
  {
   "cell_type": "code",
   "execution_count": null,
   "metadata": {
    "colab": {
     "base_uri": "https://localhost:8080/"
    },
    "id": "9swmBRo3h5Ei",
    "outputId": "df5022ae-55b0-45bf-fbe5-75cafec440aa"
   },
   "outputs": [],
   "source": [
    "l=[2,34,24,12,53,65,29,45,5,6]\n",
    "\n",
    "#### your code starts ####\n",
    "\n",
    "#### your code ends ####"
   ]
  },
  {
   "cell_type": "markdown",
   "metadata": {
    "id": "U-V5tFh5dzZp"
   },
   "source": [
    "### (3) [1 pt] Loops (Sec. 3.2)\n",
    "Print the following pattern:\\\n",
    "1 1 1 1 1\\\n",
    "1 1 1 1\\\n",
    "1 1 1\\\n",
    "1 1\\\n",
    "1"
   ]
  },
  {
   "cell_type": "code",
   "execution_count": null,
   "metadata": {
    "colab": {
     "base_uri": "https://localhost:8080/"
    },
    "id": "aR39Il03fZ94",
    "outputId": "93f37343-ef71-4876-f64d-280b8ca472a0"
   },
   "outputs": [],
   "source": [
    "#### your code starts ####\n",
    "\n",
    "#### your code ends ####"
   ]
  },
  {
   "cell_type": "markdown",
   "metadata": {
    "id": "gvNhPXxAfgdF"
   },
   "source": [
    "### (4) [2 pts] Functions (Sec. 3.3)\n",
    "Write a function weirdMath such that for given numbers, print out\n",
    "-  the difference between first and second number If the difference is positive\n",
    "- print out their product, otherwise.\n",
    "\n",
    "Sample output:\n",
    "```\n",
    "num1=50, num2=10, weirMath=40\n",
    "num1=5, num2=50, weirMath=250\n",
    "```"
   ]
  },
  {
   "cell_type": "code",
   "execution_count": null,
   "metadata": {
    "colab": {
     "base_uri": "https://localhost:8080/"
    },
    "id": "9tia6_LZgVhf",
    "outputId": "e0ea08f7-54f3-4d65-f720-fecef6906d42"
   },
   "outputs": [],
   "source": [
    "import random\n",
    "\n",
    "def weirdMath(num1,num2):\n",
    "  #### your code starts ####\n",
    "\n",
    "  #### your code ends ####\n",
    "\n",
    "\n",
    "# Testing code\n",
    "for x in range(10):\n",
    "  #randomly generating integers between 0 and 100\n",
    "  number1 = random.randint(0,100)\n",
    "  number2 = random.randint(0,100)\n",
    "  weirdMath(number1,number2)\n",
    "\n"
   ]
  },
  {
   "cell_type": "markdown",
   "metadata": {
    "id": "JObn2oWAXY9Q"
   },
   "source": [
    "### (5) [3 pts] Classes (Sec. 3.4)\n",
    "Write a class BC:\n",
    "- in `__init__()`, record instance variables name,id and major. \n",
    "- write the `info()` function to print out the student name + ID + major. If the student is a non-CS major, print out an extra line: \"Coding can be fun!\"\n",
    "\n",
    "Sample output:\n",
    "```\n",
    "Name: Yufan Yang, ID: 123456, Major: CS\n",
    "Name: Jeff, ID: 654321, Major: Biology\n",
    "Coding can be fun!\n",
    "```"
   ]
  },
  {
   "cell_type": "code",
   "execution_count": null,
   "metadata": {
    "colab": {
     "base_uri": "https://localhost:8080/"
    },
    "id": "zzZo6QN-YAog",
    "outputId": "b2188dec-2f1a-4206-bcde-0e273a91a741"
   },
   "outputs": [],
   "source": [
    "class BC:\n",
    "  def __init__(self,name,id,major):\n",
    "    # create instance variables here\n",
    "    #### your code starts ####\n",
    "\n",
    "    #### your code ends ####\n",
    "\n",
    "  def info(self):\n",
    "    # print info\n",
    "    #### your code starts ####\n",
    "\n",
    "    #### your code ends ####\n",
    "    \n",
    "# Testing code\n",
    "a=BC(\"Yufan\", 123456, \"CS\")\n",
    "a.info()\n",
    "b=BC(\"Jeff\",654321,\"Biology\")\n",
    "b.info()\n",
    "c=BC(\"David\", 292819, \"Communication\")\n",
    "c.info()"
   ]
  }
 ],
 "metadata": {
  "colab": {
   "collapsed_sections": [],
   "name": "lab1.ipynb",
   "provenance": [],
   "toc_visible": true
  },
  "kernelspec": {
   "display_name": "Python 3",
   "language": "python",
   "name": "python3"
  },
  "language_info": {
   "codemirror_mode": {
    "name": "ipython",
    "version": 3
   },
   "file_extension": ".py",
   "mimetype": "text/x-python",
   "name": "python",
   "nbconvert_exporter": "python",
   "pygments_lexer": "ipython3",
   "version": "3.8.8"
  }
 },
 "nbformat": 4,
 "nbformat_minor": 4
}
