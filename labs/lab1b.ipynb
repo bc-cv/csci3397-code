{
 "cells": [
  {
   "cell_type": "markdown",
   "metadata": {
    "id": "dzNng6vCL9eP"
   },
   "source": [
    "# [CSCI 3397/PSYC 3317] Lab 1b: Digital image basics\n",
    "\n",
    "**Posted:** Thursday, January 20, 2022\n",
    "\n",
    "**Due:** Tuesday, January 25, 2022\n",
    "\n",
    "__Total Points__: 8 pts\n",
    "\n",
    "__Submission__: please rename the .ipynb file as __\\<your_username\\>_lab1b.ipynb__ before you submit it to canvas. Example: weidf_lab1b.ipynb.\n",
    "\n",
    "Acknowledgement: Jeff Wang developed the exercise."
   ]
  },
  {
   "cell_type": "markdown",
   "metadata": {
    "id": "AW8NutOCx4qG"
   },
   "source": [
    "<hr>"
   ]
  },
  {
   "cell_type": "markdown",
   "metadata": {
    "id": "CnXPNdF5CsgT"
   },
   "source": [
    "In this class, we will use the Bitmap format to represent a digital image as a rectangle grid of same-sized **squares** (i.e., **pixel**), each with its own color. With the size of squares becomes smaller, we begin to perceive the blocky squares as a smooth image.\n",
    "\n",
    "<img src=\"https://etc.usf.edu/techease/wp-content/uploads/2017/12/Robot-73-Juggler-C.jpg\" height=200>\n"
   ]
  },
  {
   "cell_type": "markdown",
   "metadata": {
    "id": "IIEOFqKWzWVQ"
   },
   "source": [
    "## <b>1. Image I/O</b>\n"
   ]
  },
  {
   "cell_type": "markdown",
   "metadata": {
    "id": "1F7IDIDXCC26"
   },
   "source": [
    "#### 1.1 Read and write an image\n",
    "\n",
    "In this course, we will mostly use a light-weight and user-friendly library `imageio`. Its `imread()` function will read in the image path and return a matrix of numbers. For grayscale images (aka. black-and-white images), each number is the intensity value for each pixel.\n"
   ]
  },
  {
   "cell_type": "code",
   "execution_count": null,
   "metadata": {
    "colab": {
     "base_uri": "https://localhost:8080/",
     "height": 381
    },
    "id": "ACaGTtWHFIVL",
    "outputId": "9ad46af2-bc55-473a-e103-4c903c18adc6"
   },
   "outputs": [],
   "source": [
    "import imageio\n",
    "\n",
    "light_microscopy_image = imageio.imread('lab1/lightmicroscope_embryo.jpg')\n",
    "\n",
    "print('Image shape:', light_microscopy_image.shape)\n",
    "print(\"It's a 2D matrix:\\n\", light_microscopy_image)"
   ]
  },
  {
   "cell_type": "markdown",
   "metadata": {},
   "source": [
    "The `imwrite()` function takes two arguments: output filename and the image matrix."
   ]
  },
  {
   "cell_type": "code",
   "execution_count": null,
   "metadata": {},
   "outputs": [],
   "source": [
    "imageio.imwrite('lab1/lightmicroscope_embryo_copy.jpg', light_microscopy_image)"
   ]
  },
  {
   "cell_type": "markdown",
   "metadata": {
    "id": "73_coqBICC-J"
   },
   "source": [
    "#### 1.2 Display an image\n",
    "We can use the `matplotlib` library for visualization."
   ]
  },
  {
   "cell_type": "code",
   "execution_count": null,
   "metadata": {
    "colab": {
     "base_uri": "https://localhost:8080/",
     "height": 210
    },
    "id": "s_yPgi1iGgA0",
    "outputId": "18039a3f-6223-4636-8794-1bbc0d25573a"
   },
   "outputs": [],
   "source": [
    "import matplotlib.pyplot as plt\n",
    "# set figure size\n",
    "plt.figure(figsize=(4, 3)) \n",
    "\n",
    "# add the image content with the colormap\n",
    "plt.subplot(121)\n",
    "plt.imshow(light_microscopy_image, cmap='gray'); \n",
    "\n",
    "plt.subplot(122)\n",
    "# more colormaps to choose: https://matplotlib.org/stable/tutorials/colors/colormaps.html\n",
    "plt.imshow(light_microscopy_image, cmap='jet'); \n",
    "\n",
    "\n",
    "# add the image title\n",
    "plt.title('Light microscopy image for an embryo')\n",
    "# turn off the plot axis\n",
    "plt.axis('off'); \n",
    "\n",
    "# show it \n",
    "plt.show()"
   ]
  },
  {
   "cell_type": "markdown",
   "metadata": {
    "id": "MCCvIkerCDAT"
   },
   "source": [
    "#### 1.3 What is in a digital image\n",
    "\n",
    "- Range of the matrix values: The common pixel value types are `uint8` and 'uint16', where the image intensity ranges are [0,255] and [0, 65535]. In both cases, 0 represents black color and the max value (255 or 65535) represents white.\n",
    "\n",
    "Side note for data type [[link]](https://doc.embedded-wizard.de/uint-type?v=8.10): `uint8` means this number is represented by 8 bits and is \"unsigned\" (non-negative). Thus, it can represent any number between 0 and $2^8-1=255$. Similarly, for `uint16`, the range is between 0 and $2^{16}-1=65535$.\n",
    "\n"
   ]
  },
  {
   "cell_type": "code",
   "execution_count": null,
   "metadata": {
    "colab": {
     "base_uri": "https://localhost:8080/"
    },
    "id": "FY80XaucHLVz",
    "outputId": "fe170f08-a509-4d88-e13c-60d47c9ca067"
   },
   "outputs": [],
   "source": [
    "print('--- Matrix value range ---')\n",
    "print('min=%d, max=%d, avg=%d' % (light_microscopy_image.min(),light_microscopy_image.max(),light_microscopy_image.mean()))"
   ]
  },
  {
   "cell_type": "markdown",
   "metadata": {
    "id": "CHnxMikBISLa"
   },
   "source": [
    "- Image coordinates. \n",
    "The image is a grid \n",
    "For a 2D matrix of size $M\\times N$, we know the element indices range from (0,0) to (M-1,N-1).\n",
    "`im[y,x]` stores the color value of the pixel at the integer location `(y,x)`: y-th row and x-th column.\n",
    "\n"
   ]
  },
  {
   "cell_type": "code",
   "execution_count": null,
   "metadata": {
    "colab": {
     "base_uri": "https://localhost:8080/",
     "height": 299
    },
    "id": "zqwKfus1HpG7",
    "outputId": "21dae31d-67c0-454f-d7d7-c9b6a1768cb1"
   },
   "outputs": [],
   "source": [
    "fig, ax = plt.subplots()\n",
    "ax.imshow(light_microscopy_image, cmap='gray')\n",
    "ax.xaxis.tick_top()\n",
    "plt.title('Display image coordinates')\n",
    "plt.show()\n",
    "\n",
    "print('The image intensity value at (10,100) is:', light_microscopy_image[10,100])"
   ]
  },
  {
   "cell_type": "markdown",
   "metadata": {
    "id": "0VQmFNIDhZzX"
   },
   "source": [
    "- Get an image patch (sub-image) by coordinates: Instead of just getting the image value at `(y,x)`, we can get a subimage by specifying the top-left corner `(y0,x0)` and bottom-right corner `(y1,x1)`: `im[y0:y1, x0:x1]`.\n"
   ]
  },
  {
   "cell_type": "code",
   "execution_count": null,
   "metadata": {
    "colab": {
     "base_uri": "https://localhost:8080/",
     "height": 299
    },
    "id": "D57PT6zZhZ6F",
    "outputId": "56634493-859c-411e-c551-c5964ed7fc46"
   },
   "outputs": [],
   "source": [
    "top_left = [0,0]\n",
    "bottom_right = [100,100]\n",
    "\n",
    "image_patch = light_microscopy_image[top_left[0]:bottom_right[0],\\\n",
    "                                    top_left[1]:bottom_right[1]]\n",
    "\n",
    "plt.imshow(image_patch, cmap='gray')\n",
    "plt.title('Display subimage')\n",
    "plt.show()"
   ]
  },
  {
   "cell_type": "markdown",
   "metadata": {
    "id": "BDxbyC5fqlk-"
   },
   "source": [
    "- Image manipluation by changing the matrix value: Let's make the middle patch white by assigning it to 255."
   ]
  },
  {
   "cell_type": "code",
   "execution_count": null,
   "metadata": {
    "colab": {
     "base_uri": "https://localhost:8080/",
     "height": 281
    },
    "id": "DT_mZG2-ql28",
    "outputId": "b019b704-b224-4967-9338-5e7fac502724"
   },
   "outputs": [],
   "source": [
    "# first make a copy of the image\n",
    "image_copy = light_microscopy_image.copy()\n",
    "quarter_height = image_copy.shape[0] // 4\n",
    "quarter_width = image_copy.shape[1] // 4\n",
    "\n",
    "# make the middle patch white by assigning it to 255\n",
    "image_copy[quarter_height : quarter_height*3,  quarter_width:quarter_width*3] = 255\n",
    "\n",
    "plt.imshow(image_copy, cmap='gray')\n",
    "plt.title('Modified bottom-right quarter image')\n",
    "plt.show()"
   ]
  },
  {
   "cell_type": "markdown",
   "metadata": {
    "id": "v1Db3x68v5oH"
   },
   "source": [
    "- Color: Instead of a 2D matrix for the grayscale image, we now have a 3D tensor for the color image represented by three RGB values (<font color='red'>red</font>, <font color='green'>green</font>, and <font color='blue'>blue</font>). For a RGB color image, each pixel stores three values to indicate the amount of (red, green, and blue) respectively. \n",
    "Thus, a RGB color image is stored as a 3D tensor, where <font color='red'>`im[y,x,c]` returns the `c`-th channel value for the pixel (square) at the integer location `(y,x)`</font>.  (Optional reading: [RGB color model](https://en.wikipedia.org/wiki/RGB_color_model))"
   ]
  },
  {
   "cell_type": "code",
   "execution_count": null,
   "metadata": {
    "colab": {
     "base_uri": "https://localhost:8080/",
     "height": 120
    },
    "id": "KTILwLV6v5zH",
    "outputId": "20418351-decb-434e-b835-6b9d2697ffca"
   },
   "outputs": [],
   "source": [
    "# demo: start from a black image\n",
    "# we will learn about numpy library later\n",
    "import numpy as np\n",
    "im_test = np.zeros([100,100,3], np.uint8)\n",
    "\n",
    "# create a red image: (255,0,0)\n",
    "im_test_red = im_test.copy()\n",
    "im_test_red[:,:,0] = 255\n",
    "\n",
    "# create a green image: (0,255,0)\n",
    "im_test_green = im_test.copy()\n",
    "im_test_green[:,:,1] = 255\n",
    "\n",
    "# TODO: create a blue image: (0,0,255)\n",
    "im_test_blue = im_test.copy()\n",
    "im_test_blue[:,:,2] = 255\n",
    "\n",
    "# plot images\n",
    "plt.subplot(1,4,1); plt.imshow(im_test); plt.axis('off'); plt.title('image black')\n",
    "plt.subplot(1,4,2); plt.imshow(im_test_red); plt.axis('off'); plt.title('image red')\n",
    "plt.subplot(1,4,3); plt.imshow(im_test_green); plt.axis('off'); plt.title('image green')\n",
    "plt.subplot(1,4,4); plt.imshow(im_test_blue); plt.axis('off'); plt.title('image blue')\n",
    "plt.show()"
   ]
  },
  {
   "cell_type": "markdown",
   "metadata": {
    "id": "EG2IreKkzWXY"
   },
   "source": [
    "## <b>2. Bioimages and medical images</b>"
   ]
  },
  {
   "cell_type": "markdown",
   "metadata": {
    "id": "XG2SXy34DIQy"
   },
   "source": [
    "### 2.1 Bioimages\n",
    "\n",
    "Usually, biologists use microscope to take images. Popular optical microscopes use stained tissues or fluorescent tissues."
   ]
  },
  {
   "cell_type": "markdown",
   "metadata": {
    "id": "7kHXXPIczW4x"
   },
   "source": [
    "#### Stained tissue\n",
    "In addition, we can stain the tissue with dyes and see different biological structure in different colors. For example, [H&E stain](https://en.wikipedia.org/wiki/H%26E_stain) is commonly used for cancer diagnostics."
   ]
  },
  {
   "cell_type": "code",
   "execution_count": null,
   "metadata": {
    "colab": {
     "base_uri": "https://localhost:8080/",
     "height": 282
    },
    "id": "fuyD-k8Qs-kK",
    "outputId": "bc420c25-3388-48d9-ca7b-a87ea2cc3742"
   },
   "outputs": [],
   "source": [
    "import imageio\n",
    "\n",
    "light_microscopy_image_stain = imageio.imread('lab1/lightmicroscope_stain.png')\n",
    "\n",
    "plt.imshow(light_microscopy_image_stain);\n",
    "plt.title('Light microscopy image for a stained tissue')\n",
    "plt.axis('off'); \n",
    "plt.show()\n",
    "\n",
    "print('Image shape:', light_microscopy_image_stain.shape)"
   ]
  },
  {
   "cell_type": "markdown",
   "metadata": {
    "id": "h__hpPGEzW7D"
   },
   "source": [
    "#### Fluorescent tissue\n",
    "\n",
    "Instead of taking a single image (grayscale or color), fluorescent microscope Usually the tissue is scanned muFlurescent imag"
   ]
  },
  {
   "cell_type": "code",
   "execution_count": null,
   "metadata": {
    "id": "s29jiR-PuYDE"
   },
   "outputs": [],
   "source": [
    "import h5py\n",
    "import numpy as np\n",
    "\n",
    "# h5 file stores multiple variables in different keys\n",
    "fluorecent_file = h5py.File('lab1/fluoresent_channels.h5', 'r')\n",
    "\n",
    "# check the keys in the file\n",
    "print(fluorecent_file.keys())\n",
    "channels = list(fluorecent_file.keys())\n",
    "im_size = fluorecent_file[channels[0]].shape\n",
    "\n",
    "\n",
    "# naive display each fluorescent channel independently\n",
    "for cid in range(3):\n",
    "    plt.subplot(1,3,cid+1)\n",
    "    plt.imshow(np.array(fluorecent_file[channels[cid]]), cmap='gray')\n",
    "    plt.axis('off')\n",
    "    plt.title('channel %d' % cid)"
   ]
  },
  {
   "cell_type": "code",
   "execution_count": null,
   "metadata": {},
   "outputs": [],
   "source": [
    "# load channels into different RGB channel\n",
    "im = np.zeros([im_size[0], im_size[1], 3], np.uint8)\n",
    "for cid in range(3):\n",
    "    im[:, :, cid] = np.array(fluorecent_file[channels[cid]])\n",
    "\n",
    "# display image\n",
    "plt.imshow(im)\n",
    "plt.axis('off')\n",
    "plt.title('use color channels');\n"
   ]
  },
  {
   "cell_type": "code",
   "execution_count": null,
   "metadata": {},
   "outputs": [],
   "source": [
    "# close h5 file\n",
    "fluorecent_file.close()"
   ]
  },
  {
   "cell_type": "markdown",
   "metadata": {},
   "source": [
    "### 2.2 Medical Images\n",
    "\n",
    "Let's use the 3D CT data as an example. For medical images, be ready to learn to use new image i/o libraries, as there are many different storage protocols.\n",
    "\n",
    "For those who are interested, DICOM is the common file type used currently in hospitals [[link](https://colab.research.google.com/github/tensorflow/io/blob/master/docs/tutorials/dicom.ipynb)]."
   ]
  },
  {
   "cell_type": "code",
   "execution_count": null,
   "metadata": {},
   "outputs": [],
   "source": [
    "# We need to first install\n",
    "! pip install nibabel"
   ]
  },
  {
   "cell_type": "code",
   "execution_count": null,
   "metadata": {},
   "outputs": [],
   "source": [
    "import nibabel as nib\n",
    "ct_file = nib.load('lab1/study_0001.nii.gz')\n",
    "ct_data = ct_file.get_data()[:,::-1,::-1]\n",
    "ct_resolution = ct_file.header.get_zooms()\n",
    "\n",
    "# Print image attributes\n",
    "print('Image type:', ct_data.dtype)\n",
    "print('Shape of image array:', ct_data.shape)\n",
    "print('Voxel size:', ct_resolution)"
   ]
  },
  {
   "cell_type": "code",
   "execution_count": null,
   "metadata": {},
   "outputs": [],
   "source": [
    "# plot data without and with contrast normalization\n",
    "\n",
    "fig, ax = plt.subplots(1, 2, figsize=(15, 10))\n",
    "# Draw the image in grayscale\n",
    "ax[0].imshow(np.squeeze(ct_data[:,:,20:21]).T, cmap='gray');\n",
    "\n",
    "# Draw the image with greater contrast\n",
    "ax[1].imshow(np.squeeze(ct_data[:,:,20:21]).T, cmap='gray', vmin=-200, vmax=200);\n"
   ]
  },
  {
   "cell_type": "code",
   "execution_count": null,
   "metadata": {},
   "outputs": [],
   "source": [
    "# plot data without and with resolution\n",
    "# the xyz resolution is anisotropic, but plt assumes a square pixel\n",
    "\n",
    "fig, ax = plt.subplots(1, 2, figsize=(15, 10))\n",
    "# Draw the image in grayscale\n",
    "ax[0].imshow(ct_data[:,200].T, cmap='gray', vmin=-200, vmax=200);\n",
    "ax[0].title.set_text('Without resolution correction')\n",
    "ax[0].axis('off');\n",
    "\n",
    "# Draw the image with greater contrast\n",
    "ax[1].imshow(ct_data[:,200].T, cmap='gray', vmin=-200, vmax=200, aspect='%.2f'% (ct_resolution[2]/ct_resolution[0]));\n",
    "ax[1].title.set_text('With resolution correction')\n",
    "ax[1].axis('off');\n"
   ]
  },
  {
   "cell_type": "code",
   "execution_count": null,
   "metadata": {},
   "outputs": [],
   "source": [
    "# plot three views correctly\n",
    "\n",
    "fig, ax = plt.subplots(1, 3, figsize=(15, 10))\n",
    "# Draw the image in grayscale\n",
    "ax[0].imshow(np.squeeze(ct_data[:,:,20:21]).T, cmap='gray', vmin=-200, vmax=200);\n",
    "ax[0].title.set_text('xy-slice')\n",
    "ax[0].axis('off');\n",
    "\n",
    "# Draw the image with greater contrast\n",
    "ax[1].imshow(ct_data[:,200].T, cmap='gray', vmin=-200, vmax=200, aspect='%.2f'% (ct_resolution[2]/ct_resolution[0]));\n",
    "ax[1].title.set_text('xz-slice')\n",
    "ax[1].axis('off');\n",
    "\n",
    "# Remove axis ticks and labels\n",
    "ax[2].imshow(ct_data[200].T, cmap='gray', vmin=-200, vmax=200, aspect='%.2f'% (ct_resolution[2]/ct_resolution[1]));\n",
    "ax[2].title.set_text('yz-slice')\n",
    "ax[2].axis('off');"
   ]
  },
  {
   "cell_type": "markdown",
   "metadata": {
    "id": "TSnlc_cBMD9n"
   },
   "source": [
    "## <b>3. Matplotlib for data analysis</b>\n",
    "So far, we have used Matplotlib to show image. In general, this library can draw many useful figures for statistical analysis [[link]](https://matplotlib.org/stable/tutorials/index). We will use a rolling die as an example.\n",
    "\n",
    "<img src=\"https://www.online-stopwatch.com/images/3d-dice.png\" height=150/>"
   ]
  },
  {
   "cell_type": "markdown",
   "metadata": {
    "id": "TPPLPhfYPaz5"
   },
   "source": [
    "\n",
    "\n",
    "#### 3.1 Plotting\n"
   ]
  },
  {
   "cell_type": "code",
   "execution_count": null,
   "metadata": {
    "colab": {
     "base_uri": "https://localhost:8080/",
     "height": 265
    },
    "id": "Z0_P4NUZO3Pq",
    "outputId": "8cb7fafc-6d45-4de5-e27f-8ca470dbb658"
   },
   "outputs": [],
   "source": [
    "import matplotlib.pyplot as plt\n",
    "import random\n",
    "\n",
    "# Let's roll a die 100 times\n",
    "num_data = 100\n",
    "x = range(num_data)\n",
    "y = [random.randint(1,6) for i in range(num_data)]\n",
    "\n",
    "# Plot the points using matplotlib\n",
    "plt.plot(x, y)\n",
    "plt.show()"
   ]
  },
  {
   "cell_type": "markdown",
   "metadata": {
    "id": "v8Pbo4PGPeoX"
   },
   "source": [
    "With just a little bit of extra work we can easily plot multiple lines at once, and add a title, legend, and axis labels:"
   ]
  },
  {
   "cell_type": "code",
   "execution_count": null,
   "metadata": {
    "colab": {
     "base_uri": "https://localhost:8080/",
     "height": 295
    },
    "id": "NgpGPfy4PfuH",
    "outputId": "04ac9da9-6e2a-4459-afa6-e1b4bb8e517c"
   },
   "outputs": [],
   "source": [
    "# let's roll the die again\n",
    "y2 = [random.randint(1,6) for i in range(num_data)]\n",
    "\n",
    "# Plot the points using matplotlib\n",
    "\n",
    "plt.plot(x, y, 'r-')\n",
    "plt.plot(x, y2, 'b-')\n",
    "plt.xlabel('step index')\n",
    "plt.ylabel('number')\n",
    "plt.title('Rolling dies')\n",
    "plt.legend(['trial 1', 'trial 2'])\n",
    "plt.show()"
   ]
  },
  {
   "cell_type": "markdown",
   "metadata": {
    "id": "JG0yiG_DPmfo"
   },
   "source": [
    "#### 3.2 Subplots \n",
    "\n",
    "You can plot different things in the same figure using the subplot function. [[For more details]](https://matplotlib.org/stable/api/_as_gen/matplotlib.pyplot.subplot.html)"
   ]
  },
  {
   "cell_type": "code",
   "execution_count": null,
   "metadata": {
    "colab": {
     "base_uri": "https://localhost:8080/",
     "height": 281
    },
    "id": "CfuKm4HkPk3i",
    "outputId": "19532939-aee3-4e49-f247-038fe5755af2"
   },
   "outputs": [],
   "source": [
    "# Set up a subplot grid that has height 2 and width 1,\n",
    "# and set the first such subplot as active.\n",
    "plt.subplot(2, 1, 1)\n",
    "\n",
    "# Make the first plot\n",
    "plt.plot(x, y, 'r-')\n",
    "plt.title('Trial 1')\n",
    "\n",
    "# Set the second subplot as active, and make the second plot.\n",
    "plt.subplot(2, 1, 2)\n",
    "plt.plot(x, y2)\n",
    "plt.title('Trial 2')\n",
    "# Show the figure.\n",
    "plt.show()"
   ]
  },
  {
   "cell_type": "markdown",
   "metadata": {
    "id": "Q9i0gRpARU2G"
   },
   "source": [
    "#### 3.3 Histogram\n",
    "\n",
    "Now you may wonder, is the die fair during each trial? We need to count the number of occurrence of each of 1-6 number, which leads us to the histogram plot.  [[For more details]](https://matplotlib.org/stable/api/_as_gen/matplotlib.pyplot.hist.html)"
   ]
  },
  {
   "cell_type": "code",
   "execution_count": null,
   "metadata": {
    "colab": {
     "base_uri": "https://localhost:8080/",
     "height": 302
    },
    "id": "8bgsq4nERg9I",
    "outputId": "867becbb-aa61-48bc-adab-f408e064916d"
   },
   "outputs": [],
   "source": [
    "num_occ_avg = num_data / 6\n",
    "print('A fair die has the number of occurence:', num_occ_avg)\n",
    "\n",
    "\n",
    "# with more times of rolling, the number of occurrence \n",
    "# for each number converges to the average value\n",
    "\n",
    "plt.plot(range(1,8), [num_occ_avg for i in range(7)], 'r-')\n",
    "plt.hist(y, bins=range(1,8))\n",
    "plt.legend(['expected number', 'acutal number'])\n",
    "\n"
   ]
  },
  {
   "cell_type": "markdown",
   "metadata": {
    "id": "iNy2eTQCx4qY"
   },
   "source": [
    "## [xx pts] Exercise "
   ]
  },
  {
   "cell_type": "markdown",
   "metadata": {
    "id": "YcsjxuV0cWcQ"
   },
   "source": [
    "### (1) [4 points] Image statistics.\n",
    "Load the following RGB image and answer 4 questions (1 pt each). Hints: section 1.2, 1.3 (color)"
   ]
  },
  {
   "cell_type": "code",
   "execution_count": null,
   "metadata": {
    "colab": {
     "base_uri": "https://localhost:8080/",
     "height": 300
    },
    "id": "92dP67cXew0N",
    "outputId": "867340b5-a029-4487-eab2-bd02a8451ee0"
   },
   "outputs": [],
   "source": [
    "import imageio\n",
    "\n",
    "stain_image = imageio.imread('lab1/lightmicroscope_stain.png')\n",
    "\n",
    "\n",
    "#(a) Use matplotlib to display the image\n",
    "#### your code starts ####\n",
    "\n",
    "#### your code ends ####\n",
    "\n",
    "#(b) Print the height and weight of the image\n",
    "#### your code starts ####\n",
    "print(\"Image height and weight:\")\n",
    "\n",
    "#### your code ends ####\n",
    "\n",
    "#(c) Find the range of Pixel RGB\n",
    "# (min_R, min_G, min_B) - (max_R, max_G, max_B)\n",
    "#### your code starts ####\n",
    "print(\"Pixel RGB value range:\")\n",
    "\n",
    "#### your code ends ####\n",
    "\n",
    "#(d) Find the value at pixel position (100, 100)\n",
    "#### your code starts ####\n",
    "y, x = 100, 100\n",
    "print(\"Pixel RGB value is\")\n",
    "\n",
    "#### your code ends ####"
   ]
  },
  {
   "cell_type": "markdown",
   "metadata": {
    "id": "W54Kq4PoAlYu"
   },
   "source": [
    "\n",
    "### (2) [2 points] Image patch\n",
    "- [1 pt] Find out the bounding box range that will include all embryos in light microsciopy image. \n",
    "- [1 pt] Use this bounding box coordinate to crop out the sub-image containing only the embryo cells.\n",
    "\n",
    "Hints: section 1.3"
   ]
  },
  {
   "cell_type": "code",
   "execution_count": null,
   "metadata": {
    "colab": {
     "base_uri": "https://localhost:8080/",
     "height": 269
    },
    "id": "g1Sn_U3iUV8z",
    "outputId": "1b8c4482-9d16-40cb-fcac-a2abc88c4890"
   },
   "outputs": [],
   "source": [
    "import imageio\n",
    "import matplotlib.pyplot as plt\n",
    "light_microscopy_image = imageio.imread('lab1/lightmicroscope_embryo.jpg')\n",
    "\n",
    "\n",
    "plt.subplot(121)\n",
    "plt.imshow(light_microscopy_image, cmap='gray')\n",
    "\n",
    "plt.subplot(122)\n",
    "#### your code starts ####\n",
    "# bbox: [top-left-corner_x, top-left-corner_y, bottom-right-corner_x, bottom-right-corner_y]\n",
    "bbox = ???\n",
    "im_embryo = ???\n",
    "#### your code ends ####\n",
    "plt.imshow(im_embryo, cmap='gray')\n",
    "plt.show()"
   ]
  },
  {
   "cell_type": "markdown",
   "metadata": {
    "id": "qrPTYhivEQ5N"
   },
   "source": [
    "### (3) [2 points] COVID Data Plotting.\n",
    "Plot BC Fall 21 covid undergraduate and community weekly infection data (1 pt each).\n",
    "\n",
    "- a) The skeleton code uses Pandas to load csv file into a dictionary. Learn the syntax by example to get the list of undergrad and community infection respectively. Plot the two curves in different colors: X axis is week number and y axis is the number of infection\n",
    "- b) Add legend ('undergrad', 'community'), title ('BC Fall 2021 weekly infection data'), and the axis label name\n",
    "\n",
    "\n",
    "Hints: section 3.1 "
   ]
  },
  {
   "cell_type": "code",
   "execution_count": null,
   "metadata": {
    "colab": {
     "base_uri": "https://localhost:8080/",
     "height": 295
    },
    "id": "5MWLmnU7Ual7",
    "outputId": "03564fc9-a059-4b5c-9214-6e4e7be91217"
   },
   "outputs": [],
   "source": [
    "import matplotlib.pyplot as plt\n",
    "import pandas as pd\n",
    "\n",
    "covid_data = pd.read_csv('lab1/BC_Covid_Cases.csv')\n",
    "# key values (column names in the csv/excel file)\n",
    "print(covid_data.keys())\n",
    "week = covid_data['Week'].tolist()\n",
    "\n",
    "# (a)\n",
    "#### your code starts ####\n",
    "#### your code ends ####\n",
    "\n",
    "# (b)\n",
    "#### your code starts ####\n",
    "#### your code ends ####\n",
    "\n",
    "plt.show()\n"
   ]
  }
 ],
 "metadata": {
  "colab": {
   "collapsed_sections": [],
   "name": "lab1.ipynb",
   "provenance": [],
   "toc_visible": true
  },
  "kernelspec": {
   "display_name": "Python 3",
   "language": "python",
   "name": "python3"
  },
  "language_info": {
   "codemirror_mode": {
    "name": "ipython",
    "version": 3
   },
   "file_extension": ".py",
   "mimetype": "text/x-python",
   "name": "python",
   "nbconvert_exporter": "python",
   "pygments_lexer": "ipython3",
   "version": "3.8.8"
  }
 },
 "nbformat": 4,
 "nbformat_minor": 4
}
