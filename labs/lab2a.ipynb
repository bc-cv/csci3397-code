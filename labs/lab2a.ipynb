{
 "cells": [
  {
   "cell_type": "markdown",
   "metadata": {
    "id": "QuUAgQFQlsJU"
   },
   "source": [
    "# [CSCI 3397/PSYC 3317] Lab 2a: Image Operations\n",
    "\n",
    "**Posted:** Tuesday, January 25, 2022\n",
    "\n",
    "**Due:** Tuesday, February 1, 2022\n",
    "\n",
    "__Total Points__: 10 pts\n",
    "\n",
    "__Submission__: please rename the .ipynb file as __\\<your_username\\>_lab2a.ipynb__ before you submit it to canvas. Example: weidf_lab2a.ipynb.\n",
    "\n",
    "Acknowledgement: Parts adapted from http://cs231n.github.io/python-numpy-tutorial/\n",
    " and http://6.869.csail.mit.edu/sp21/schedule.html"
   ]
  },
  {
   "cell_type": "markdown",
   "metadata": {
    "id": "GVOsLEGclsJZ"
   },
   "source": [
    "# Learning Goals"
   ]
  },
  {
   "cell_type": "markdown",
   "metadata": {
    "id": "W0S-Mj2vXTzq"
   },
   "source": [
    "## Key Concepts\n",
    "- Matrix Manipulation (Numpy library)\n",
    "- Image As A Matrix/Tensor (ImageIO/Matplotlib library)"
   ]
  },
  {
   "cell_type": "markdown",
   "metadata": {
    "id": "weMMc2WZlsJc"
   },
   "source": [
    "# 1. Matrix Manipulation"
   ]
  },
  {
   "cell_type": "markdown",
   "metadata": {
    "id": "IRelpfS8lsJz"
   },
   "source": [
    "Numpy is a numerical library that provides **_tons_** of useful functions for scalar, array, and matrix types. We'll only go into a small scratch of numpy.\n",
    "\n",
    "**Why numpy instead of regular `for` loops**? \\\n",
    "In addition to the convenience of not redesigning the wheel, much of Numpy is built directly in C++ and is well optimized, so it runs *very* fast\n",
    "\n",
    "Let's import numpy now! It is customary to call it `np`, since you need to reference it a lot."
   ]
  },
  {
   "cell_type": "code",
   "execution_count": null,
   "metadata": {
    "id": "bPWkPZ-3lsJ3"
   },
   "outputs": [],
   "source": [
    "import numpy as np"
   ]
  },
  {
   "cell_type": "markdown",
   "metadata": {
    "id": "TsPlWndglsKD"
   },
   "source": [
    "## Arrays, Matrices, and Tensors"
   ]
  },
  {
   "cell_type": "markdown",
   "metadata": {
    "id": "-0UBbo9nlsKG"
   },
   "source": [
    "### Array\n",
    "One of the most important primitives in numpy is the `np.array` - this represents a fixed-size array (or list) of elements.\n",
    "\n",
    "Unlike Python lists, numpy arrays **MUST HAVE THE SAME TYPE**. The types allowed by numpy are below. Note that you have greater control over how much space is used by each datatype than Python primitives:\n",
    "- float16, float32, float64 (decimal values)\n",
    "- int8, int16, int32, int64 (integers)\n",
    "- uint8, uint16, uint32, uint64 (unsigned, or positive, integers)\n",
    "- bool (boolean)\n",
    "- complex64, complex128 (Complex numbers, represented as 2 floats)\n",
    "\n",
    "All of these types have a default size that you can access with `np.float`, `np.int`, and so on.\n",
    "\n",
    "Let's make an array from a Python list!"
   ]
  },
  {
   "cell_type": "code",
   "execution_count": null,
   "metadata": {
    "id": "86ESPxI0lsKK"
   },
   "outputs": [],
   "source": [
    "a = np.array([1, 2, 3, 4, 5, 6, 7, 8])\n",
    "print(\"A is\", a)\n",
    "print(\"Object Type:\",type(a))"
   ]
  },
  {
   "cell_type": "markdown",
   "metadata": {
    "id": "rxLQlv98lsKg"
   },
   "source": [
    "Let's see what type numpy inferred from our data"
   ]
  },
  {
   "cell_type": "code",
   "execution_count": null,
   "metadata": {
    "id": "P5s8HH06lsKj"
   },
   "outputs": [],
   "source": [
    "a.dtype"
   ]
  },
  {
   "cell_type": "markdown",
   "metadata": {
    "id": "8Yxd-jJqlsK_"
   },
   "source": [
    "We can access elements of an array using the same `[]` notation we're used to. We can even use negatives to index from the end, and make slices."
   ]
  },
  {
   "cell_type": "code",
   "execution_count": null,
   "metadata": {
    "id": "_r4tMqNzlsLC"
   },
   "outputs": [],
   "source": [
    "print(a[1])\n",
    "print(a[-1])\n",
    "print(a[0:6:2]) # index start from 0, end at 6, step = 2"
   ]
  },
  {
   "cell_type": "markdown",
   "metadata": {
    "id": "tZTqTerwlsLP"
   },
   "source": [
    "Since arrays have a fixed size, we can get this size as a tuple using the `shape` attribute - you can't set this though!"
   ]
  },
  {
   "cell_type": "code",
   "execution_count": null,
   "metadata": {
    "id": "2_HeIgCnlsLT"
   },
   "outputs": [],
   "source": [
    "print(a.shape)"
   ]
  },
  {
   "cell_type": "markdown",
   "metadata": {
    "id": "NcFvaJAxlsLg"
   },
   "source": [
    "We can also change elements of the array - we just can't add new elements"
   ]
  },
  {
   "cell_type": "code",
   "execution_count": null,
   "metadata": {
    "id": "X2IBQgOIlsLk"
   },
   "outputs": [],
   "source": [
    "a[0] = 100\n",
    "print(a)"
   ]
  },
  {
   "cell_type": "markdown",
   "metadata": {
    "id": "u1xAr63xlsLw"
   },
   "source": [
    "Since `a` and `b` are numpy arrays, we can do math with them now! These operations, by default, will happen out-of-place (a new array will be created to store the result)"
   ]
  },
  {
   "cell_type": "code",
   "execution_count": null,
   "metadata": {
    "id": "7GxTc80tlsLz"
   },
   "outputs": [],
   "source": [
    "print(\"Numpy math:\")\n",
    "print(a[:3],\"+\",a[-3:],\"=\",a[:3] + a[-3:])\n",
    "\n",
    "# If they weren't numpy arrays\n",
    "print(\"\\nVanilla Python List math:\")\n",
    "print(list(a),\"+\",list(a[:3]),\"=\",list(a) + list(a[:3]))"
   ]
  },
  {
   "cell_type": "markdown",
   "metadata": {
    "id": "3mTuX0yAlsL-"
   },
   "source": [
    "This is a small example, but we'll soon see more complicated operations numpy arrays can perform!"
   ]
  },
  {
   "cell_type": "markdown",
   "metadata": {
    "id": "J7ijTZXQlsMC"
   },
   "source": [
    "### Matrix\n",
    "We can also make matrices, by simply giving the constructor the correct shape of data"
   ]
  },
  {
   "cell_type": "code",
   "execution_count": null,
   "metadata": {
    "id": "34cv7N9nlsMI"
   },
   "outputs": [],
   "source": [
    "my_matrix = np.array(\n",
    "    [\n",
    "        [1, 2, 3],\n",
    "        [4, 5, 6]\n",
    "    ]\n",
    ")\n",
    "print(my_matrix)"
   ]
  },
  {
   "cell_type": "markdown",
   "metadata": {
    "id": "WkUIK3i4lsMS"
   },
   "source": [
    "Now, using shape will be more helpful - note that you couldn't get this shape with a Python list!"
   ]
  },
  {
   "cell_type": "code",
   "execution_count": null,
   "metadata": {
    "id": "qARpdnhelsMV"
   },
   "outputs": [],
   "source": [
    "print(my_matrix.shape)"
   ]
  },
  {
   "cell_type": "markdown",
   "metadata": {
    "id": "cjt2c_ZnlsMh"
   },
   "source": [
    "We can access matrix elements using each of their indices in order. (All dimensions are 0-indexed)"
   ]
  },
  {
   "cell_type": "code",
   "execution_count": null,
   "metadata": {
    "id": "PQxw9AN_lsMk"
   },
   "outputs": [],
   "source": [
    "print(my_matrix[0,2]) # Get row 0, column 2. The order of these indices matches their respective maximums in shape."
   ]
  },
  {
   "cell_type": "markdown",
   "metadata": {
    "id": "hXJwgdR9lsM0"
   },
   "source": [
    "We can still use slices, and negative indexing. Slicing a row or column from a matrix gives us a 1d array!"
   ]
  },
  {
   "cell_type": "code",
   "execution_count": null,
   "metadata": {
    "id": "ufOBsi-llsM5"
   },
   "outputs": [],
   "source": [
    "# Get row 0, all columns except the last one\n",
    "print(my_matrix[0,:-1])\n",
    "\n",
    "# Get columns 1 and 2.\n",
    "print(my_matrix[:, 1:3])"
   ]
  },
  {
   "cell_type": "markdown",
   "metadata": {
    "id": "9uW_xhnqlsNM"
   },
   "source": [
    "We can also still index into this as an outer-array"
   ]
  },
  {
   "cell_type": "code",
   "execution_count": null,
   "metadata": {
    "id": "ovj7O-0mlsNP"
   },
   "outputs": [],
   "source": [
    "# Gets the 0th element of the outer array - that's the 0th row!\n",
    "print(my_matrix[0])"
   ]
  },
  {
   "cell_type": "markdown",
   "metadata": {
    "id": "UIkyPTQtlsNd"
   },
   "source": [
    "**NOTE:** Matrices in numpy MUST be rectangular. Unlike nested Python lists, which can have the first list contain 1 element, and the second list contain 3 elements, in a numpy matrix, all rows have to have the same length. In other words, the matrix cannot be \"jagged\""
   ]
  },
  {
   "cell_type": "markdown",
   "metadata": {
    "id": "5Gu6uF9AlsOH"
   },
   "source": [
    "So, we can actually shape these 6 elements into whatever shape we want! This can be useful to create high dimensional arrays."
   ]
  },
  {
   "cell_type": "code",
   "execution_count": null,
   "metadata": {
    "id": "75xHCDVElsOL"
   },
   "outputs": [],
   "source": [
    "my_reshaped_matrix = my_matrix.reshape((3,2))\n",
    "my_reshaped_matrix"
   ]
  },
  {
   "cell_type": "markdown",
   "metadata": {
    "id": "kPGcM7iUlsOa"
   },
   "source": [
    "Unless you explicitly use `np.copy`, Reshapes and slices create *views* of your data - that is, they all reference the same data! So, since the variables are all aliases to the same data, changes to one will reflect in all the others! This is a double-edged sword that can boost your performance, but might catch you off guard."
   ]
  },
  {
   "cell_type": "code",
   "execution_count": null,
   "metadata": {
    "id": "FBF6eDCvlsOd"
   },
   "outputs": [],
   "source": [
    "print(\"Original my_matrix\")\n",
    "print(my_matrix)\n",
    "print(\"Original my_reshaped_matrix\")\n",
    "print(my_reshaped_matrix)\n",
    "\n",
    "# Change an element\n",
    "print(\"===MAKING A CHANGE===\")\n",
    "my_matrix[0,0] = 100 - my_matrix[0, 0]\n",
    "\n",
    "print(\"New my_matrix\")\n",
    "print(my_matrix)\n",
    "print(\"New my_reshaped_matrix\")\n",
    "print(my_reshaped_matrix)"
   ]
  },
  {
   "cell_type": "markdown",
   "metadata": {
    "id": "iax2QveulsOw"
   },
   "source": [
    "### The third dimension and beyond\n",
    "\n",
    "We were able to add a dimension to a 1d array to make a 2d matrix.\n",
    "In fact, numpy can handle even more dimensions! \n",
    "In computer vision, we often will use 3 dimensions worth of data (Height x Width x 3 colors)\n",
    "\n",
    "A \"matrix\" with 3 or more dimensions is called a *Tensor*.  \n",
    "Let's make a 2 x 3 x 4 tensor (2 stacked 3x4 matrices)"
   ]
  },
  {
   "cell_type": "code",
   "execution_count": null,
   "metadata": {
    "id": "G7X_1MEqlsO1"
   },
   "outputs": [],
   "source": [
    "my_tensor = np.array(range(2*3*4)).reshape(2,3,4)\n",
    "print(my_tensor)"
   ]
  },
  {
   "cell_type": "markdown",
   "metadata": {
    "id": "jLAg8eaAlsO8"
   },
   "source": [
    "We can use a tensor like any matrix or array"
   ]
  },
  {
   "cell_type": "code",
   "execution_count": null,
   "metadata": {
    "id": "s4aNEjs1lsO9"
   },
   "outputs": [],
   "source": [
    "# Get the 0th matrix slice, the 1st row of that matrix, and the 2nd column of that row\n",
    "print(my_tensor[0,1,2])"
   ]
  },
  {
   "cell_type": "markdown",
   "metadata": {
    "id": "j1Rz7PmnlsPF"
   },
   "source": [
    "## Array Creation\n",
    "Numpy also provides several convenience functions to help you make make empty ndarrays"
   ]
  },
  {
   "cell_type": "code",
   "execution_count": null,
   "metadata": {
    "id": "KGixnygUlsPI"
   },
   "outputs": [],
   "source": [
    "desired_shape = (2,3)"
   ]
  },
  {
   "cell_type": "markdown",
   "metadata": {
    "id": "K2aU2SuRlsPN"
   },
   "source": [
    "Some useful ones:\n",
    "- zeros: Creates an array filled with zeros\n",
    "- ones: An array of ones\n",
    "- eye: The identity matrix I (needs 1 integer for square size)\n",
    "- full: Fills with an element\n",
    "- np.random.random: Random between 0 and 1"
   ]
  },
  {
   "cell_type": "code",
   "execution_count": null,
   "metadata": {
    "id": "0tj2E41OlsPP"
   },
   "outputs": [],
   "source": [
    "print(np.zeros(desired_shape)          , '\\n')\n",
    "print(np.ones(desired_shape)           , '\\n')\n",
    "print(np.eye(3)                        , '\\n')\n",
    "print(np.full(desired_shape, 7)        , '\\n')\n",
    "print(np.random.random(desired_shape)  , '\\n')"
   ]
  },
  {
   "cell_type": "markdown",
   "metadata": {
    "id": "p-k3yNZRlsPW"
   },
   "source": [
    "If you want to create an array ranging from 0 to 10"
   ]
  },
  {
   "cell_type": "code",
   "execution_count": null,
   "metadata": {
    "id": "xDo_j0_elsPY"
   },
   "outputs": [],
   "source": [
    "np.arange(10+1)"
   ]
  },
  {
   "cell_type": "markdown",
   "metadata": {
    "id": "cglN-VeGlsPd"
   },
   "source": [
    "## Array Indexing"
   ]
  },
  {
   "cell_type": "markdown",
   "metadata": {
    "id": "6MKuMsnblsPj"
   },
   "source": [
    "We've already done a lot of indexing into arrays above, but let's look at some more details"
   ]
  },
  {
   "cell_type": "code",
   "execution_count": null,
   "metadata": {
    "id": "XiCgaCR9lsPk"
   },
   "outputs": [],
   "source": [
    "my_tensor = np.array(range(2*3*4)).reshape(2,3,4).astype(np.int)\n",
    "my_tensor"
   ]
  },
  {
   "cell_type": "markdown",
   "metadata": {
    "id": "ZCGNxWnVlsPu"
   },
   "source": [
    "### Getting Elements\n",
    "We can get elements by fully specifying the index"
   ]
  },
  {
   "cell_type": "code",
   "execution_count": null,
   "metadata": {
    "id": "q1MNo2yWlsPw"
   },
   "outputs": [],
   "source": [
    "my_tensor[0,1,2]"
   ]
  },
  {
   "cell_type": "markdown",
   "metadata": {
    "id": "U2zellPGlsP1"
   },
   "source": [
    "If we partially specify the index (in order), since this is a list-of-lists, basically, we'll get \"rows\" (or matrices, if taking parts of a tensor"
   ]
  },
  {
   "cell_type": "code",
   "execution_count": null,
   "metadata": {
    "id": "cb9PtRoclsP3"
   },
   "outputs": [],
   "source": [
    "my_tensor[0]"
   ]
  },
  {
   "cell_type": "code",
   "execution_count": null,
   "metadata": {
    "id": "e7bFnquClsP8"
   },
   "outputs": [],
   "source": [
    "my_tensor[0, 0]"
   ]
  },
  {
   "cell_type": "markdown",
   "metadata": {
    "id": "uo0r2zUYlsQH"
   },
   "source": [
    "By this logic, we can also keep adding square brackets (get the matrix, then the row, then the column)."
   ]
  },
  {
   "cell_type": "code",
   "execution_count": null,
   "metadata": {
    "id": "mmxBD63HlsQL"
   },
   "outputs": [],
   "source": [
    "my_tensor[0][0]"
   ]
  },
  {
   "cell_type": "markdown",
   "metadata": {
    "id": "cnu9vSm2lsQW"
   },
   "source": [
    "We can also use standard slice notation. Again, we don't have to specify all the dimensions"
   ]
  },
  {
   "cell_type": "code",
   "execution_count": null,
   "metadata": {
    "id": "2l4uM8talsQY"
   },
   "outputs": [],
   "source": [
    "my_tensor[0, 0:2]"
   ]
  },
  {
   "cell_type": "markdown",
   "metadata": {
    "id": "sNcr8ZiulsQd"
   },
   "source": [
    "### Setting elements\n",
    "\n",
    "We can set elements that we index to"
   ]
  },
  {
   "cell_type": "code",
   "execution_count": null,
   "metadata": {
    "id": "HGVgxGdClsQf"
   },
   "outputs": [],
   "source": [
    "my_tensor[0, 0, 0] = 100\n",
    "my_tensor"
   ]
  },
  {
   "cell_type": "markdown",
   "metadata": {
    "id": "Gi-LHTp_lsQm"
   },
   "source": [
    "We can also set blocks / slices that we index into, as long as the shapes match! (some more details: this copies values, no longer references)"
   ]
  },
  {
   "cell_type": "code",
   "execution_count": null,
   "metadata": {
    "id": "3a7_ftSqlsQo"
   },
   "outputs": [],
   "source": [
    "# Get the 0th matrix slice. Rows 1 and 2. Get every other column starting from 0\n",
    "my_tensor[0,1:3,0::2]"
   ]
  },
  {
   "cell_type": "code",
   "execution_count": null,
   "metadata": {
    "id": "nHPPR42nlsQt"
   },
   "outputs": [],
   "source": [
    "replacement = (np.eye(2, dtype=np.int) + 2) * 100\n",
    "replacement"
   ]
  },
  {
   "cell_type": "code",
   "execution_count": null,
   "metadata": {
    "id": "ENDMmY3WlsQ0"
   },
   "outputs": [],
   "source": [
    "my_tensor[0, 1:3, 0::2] = replacement\n",
    "my_tensor"
   ]
  },
  {
   "cell_type": "markdown",
   "metadata": {
    "id": "w0bPwmQ-t29F"
   },
   "source": [
    "We can also use a boolean tensor of the same size to index the tensor. For example, if we want to set everything smaller than 5 to 1 in the tensor."
   ]
  },
  {
   "cell_type": "code",
   "execution_count": null,
   "metadata": {
    "id": "mFee5XOZt0v2"
   },
   "outputs": [],
   "source": [
    "my_tensor[my_tensor < 5] = 1"
   ]
  },
  {
   "cell_type": "markdown",
   "metadata": {
    "id": "wn4EUsu3lsSa"
   },
   "source": [
    "## Elementwise- and Matrix Math\n",
    "\n",
    "Indexing and creating arrays is cool, but the real power of Numpy is doing math using those arrays."
   ]
  },
  {
   "cell_type": "markdown",
   "metadata": {
    "id": "K2qjvNr7lsSb"
   },
   "source": [
    "The basic mathematical operators (+, -, /, \\*, %) are treated as \"elementwise\" operators - they do something with each element. Which operands are used depends on a concept called \"broadcasting\". In practice - if you have two ndarrays of the same shape, then the operands will be corresponding elements in each ndarray. Otherwise, if possible, the smaller ndarray/scalar is repeated to be the same size as the larger array."
   ]
  },
  {
   "cell_type": "code",
   "execution_count": null,
   "metadata": {
    "id": "xKbDvKXflsSd"
   },
   "outputs": [],
   "source": [
    "a = np.array(range(10)).reshape(2,5)\n",
    "b = np.array(range(100,1100,100)).reshape(2,5)\n",
    "print(\"a =\",  a  )\n",
    "print(\"b =\",  b  )"
   ]
  },
  {
   "cell_type": "markdown",
   "metadata": {
    "id": "WUc4W7zXlsSi"
   },
   "source": [
    "Operate on corresponding elements of a and b"
   ]
  },
  {
   "cell_type": "code",
   "execution_count": null,
   "metadata": {
    "id": "l5sbCnHUlsSj"
   },
   "outputs": [],
   "source": [
    "a + b"
   ]
  },
  {
   "cell_type": "code",
   "execution_count": null,
   "metadata": {
    "id": "XrfLmt_3lsSp"
   },
   "outputs": [],
   "source": [
    "a * b"
   ]
  },
  {
   "cell_type": "markdown",
   "metadata": {
    "id": "LHzMZue0lsSt"
   },
   "source": [
    "We can also use scalars as operands, which will be \"broadcast\" to every element."
   ]
  },
  {
   "cell_type": "code",
   "execution_count": null,
   "metadata": {
    "id": "uMMQc84dlsSv"
   },
   "outputs": [],
   "source": [
    "a * 2"
   ]
  },
  {
   "cell_type": "code",
   "execution_count": null,
   "metadata": {
    "id": "JHbA-iQ5lsSz"
   },
   "outputs": [],
   "source": [
    "b % 3"
   ]
  },
  {
   "cell_type": "markdown",
   "metadata": {},
   "source": [
    "# 2. Pixel-level operations\n",
    "In this section, you will reproduce the images in the first part of the slides."
   ]
  },
  {
   "cell_type": "markdown",
   "metadata": {},
   "source": [
    "## 2.1 Read and visualize the X-ray image\n",
    "The image looks washed out as most pixel values are high."
   ]
  },
  {
   "cell_type": "code",
   "execution_count": null,
   "metadata": {},
   "outputs": [],
   "source": [
    "from imageio import imread\n",
    "import matplotlib.pyplot as plt\n",
    "\n",
    "I_xray = imread('lab2/xray_image.png')\n",
    "\n",
    "\n",
    "plt.figure(figsize=(8, 4)) \n",
    "\n",
    "# show the image\n",
    "plt.subplot(121)\n",
    "plt.imshow(I_xray, cmap='gray', vmin=0, vmax=255)\n",
    "plt.axis('off')\n",
    "plt.title('input image')\n",
    "\n",
    "# show the pixel value histogram\n",
    "plt.subplot(122)\n",
    "plt.hist(I_xray.reshape(-1), bins=range(0,255,20))\n",
    "plt.title('pixel value histogram')\n",
    "\n",
    "plt.show()"
   ]
  },
  {
   "cell_type": "markdown",
   "metadata": {},
   "source": [
    "## 2.2 Caveats...\n",
    "Before moving on, let's examine two common caveats."
   ]
  },
  {
   "cell_type": "code",
   "execution_count": null,
   "metadata": {},
   "outputs": [],
   "source": [
    "# Caveat I: Be aware of uint8 arithmetics\n",
    "print('Image data type: ', I_xray.dtype)\n",
    "plt.figure(figsize=(8, 4)) \n",
    "\n",
    "# show the image\n",
    "plt.subplot(121)\n",
    "plt.imshow(I_xray+30, cmap='gray')\n",
    "plt.axis('off')\n",
    "plt.title('uint8 overflow')\n",
    "\n",
    "plt.subplot(122)\n",
    "plt.imshow(I_xray-150, cmap='gray')\n",
    "plt.axis('off')\n",
    "plt.title('uint8 underflow')"
   ]
  },
  {
   "cell_type": "markdown",
   "metadata": {},
   "source": [
    "We didn't talk about the caveat in class that `vmin=0, vmax=255` is actually critical in our experiments, as `imshow()` automatically scale the image to 0-1. "
   ]
  },
  {
   "cell_type": "code",
   "execution_count": null,
   "metadata": {},
   "outputs": [],
   "source": [
    "# Caveat II: imshow function automatically scale image\n",
    "print('Image data type: ', I_xray.dtype)\n",
    "plt.figure(figsize=(8, 4)) \n",
    "\n",
    "# show the image\n",
    "plt.subplot(221)\n",
    "plt.imshow(I_xray, cmap='gray')\n",
    "plt.axis('off')\n",
    "plt.title('input (auto-scaled)')\n",
    "\n",
    "plt.subplot(222)\n",
    "plt.imshow(I_xray-120, cmap='gray')\n",
    "plt.axis('off')\n",
    "plt.title('I-120 (autoscaled)')\n",
    "\n",
    "plt.subplot(223)\n",
    "plt.imshow(I_xray, cmap='gray', vmin=0, vmax=255)\n",
    "plt.axis('off')\n",
    "plt.title('input (no autoscale)')\n",
    "\n",
    "plt.subplot(224)\n",
    "plt.imshow(I_xray-120, cmap='gray', vmin=0, vmax=255)\n",
    "plt.axis('off')\n",
    "plt.title('I-120 (no autoscale)')"
   ]
  },
  {
   "cell_type": "markdown",
   "metadata": {},
   "source": [
    "## 2.3 Problem I/Operator I: Linear function"
   ]
  },
  {
   "cell_type": "code",
   "execution_count": null,
   "metadata": {},
   "outputs": [],
   "source": [
    "import numpy as np\n",
    "# Caveat II: imshow function automatically scale image\n",
    "print('Image data type: ', I_xray.dtype)\n",
    "plt.figure(figsize=(8, 12)) \n",
    "\n",
    "# input image and histogram\n",
    "plt.subplot(321)\n",
    "plt.imshow(I_xray, cmap='gray', vmin=0, vmax=255)\n",
    "plt.axis('off')\n",
    "plt.title('I')\n",
    "\n",
    "plt.subplot(322)\n",
    "plt.hist(I_xray.reshape(-1), bins=range(0,255,20))\n",
    "plt.title('I histogram')\n",
    "plt.axis('off')\n",
    "\n",
    "# step 1: shift to left endpoint\n",
    "I_xray_left = I_xray - I_xray.min()\n",
    "plt.subplot(323)\n",
    "plt.imshow(I_xray_left, cmap='gray', vmin=0, vmax=255)\n",
    "plt.axis('off')\n",
    "plt.title('I-shift-left')\n",
    "\n",
    "plt.subplot(324)\n",
    "plt.hist(I_xray_left.reshape(-1), bins=range(0,255,20))\n",
    "plt.title('I-shift-left histogram')\n",
    "plt.axis('off')\n",
    "\n",
    "# step 2: scale to right endpoint\n",
    "# step 3: scale it back to 0-255\n",
    "\n",
    "I_xray_left_right = I_xray_left/float(I_xray.max()-I_xray.min())\n",
    "I_xray_left_right = (I_xray_left_right * 255).astype(np.uint8)\n",
    "plt.subplot(325)\n",
    "plt.imshow(I_xray_left_right, cmap='gray', vmin=0, vmax=255)\n",
    "plt.axis('off')\n",
    "plt.title('final')\n",
    "\n",
    "plt.subplot(326)\n",
    "plt.hist(I_xray_left_right.reshape(-1), bins=range(0,255,20))\n",
    "plt.axis('off')\n",
    "plt.title('final histogram')"
   ]
  },
  {
   "cell_type": "markdown",
   "metadata": {},
   "source": [
    "# 3. Patch-level operations\n",
    "In this section, you will reproduce the images in the second part of the slides."
   ]
  },
  {
   "cell_type": "markdown",
   "metadata": {},
   "source": [
    "## 3.0 Generate the noise image\n",
    "Ah, yes, I synthesized the noisy X-ray instead of getting one from the hospital..."
   ]
  },
  {
   "cell_type": "code",
   "execution_count": null,
   "metadata": {},
   "outputs": [],
   "source": [
    "from imageio import imread\n",
    "import matplotlib.pyplot as plt\n",
    "import numpy as np\n",
    "\n",
    "# subsample the image by 4x, so that the noise is more visible\n",
    "I_xray = imread('lab2/xray_image.png')[::4,::4]\n",
    "\n",
    "# add noise\n",
    "## convert it to float to avoid uint8 bugs..\n",
    "I_xray_noise = I_xray.astype(float) + np.random.random(I_xray.shape)*40\n",
    "# clip it back to 0-255\n",
    "I_xray_noise = np.clip(I_xray_noise, 0 ,255)\n",
    "# another way to write:\n",
    "# I_xray_noise[I_xray_noise < 0] = 0\n",
    "# I_xray_noise[I_xray_noise > 255] = 255\n",
    "\n",
    "plt.subplot(121)\n",
    "plt.imshow(I_xray, cmap='gray');plt.axis('off')\n",
    "plt.subplot(122)\n",
    "plt.imshow(I_xray_noise, cmap='gray');plt.axis('off')"
   ]
  },
  {
   "cell_type": "markdown",
   "metadata": {},
   "source": [
    "## 3.1 Problem I: Average filter (aka, blur filter)"
   ]
  },
  {
   "cell_type": "code",
   "execution_count": null,
   "metadata": {},
   "outputs": [],
   "source": [
    "# patch half size\n",
    "psz_h = 1\n",
    "\n",
    "# make sure to copy, otherwise they reference the same memory (same variable)\n",
    "I_xray_denoise = I_xray_noise.copy()\n",
    "im_size = I_xray_denoise.shape\n",
    "\n",
    "for row in range(psz_h, im_size[0]-psz_h):\n",
    "    for col in range(psz_h, im_size[1]-psz_h):\n",
    "        patch = I_xray_noise[row-psz_h : row+psz_h+1, col-psz_h : col+psz_h+1]\n",
    "        I_xray_denoise[row, col] = patch.mean()\n",
    "        \n",
    "plt.subplot(131)\n",
    "plt.imshow(I_xray, cmap='gray');plt.axis('off');plt.title('clean')\n",
    "plt.subplot(132)\n",
    "plt.imshow(I_xray_noise, cmap='gray');plt.axis('off');plt.title('noisy')\n",
    "plt.subplot(133)\n",
    "plt.imshow(I_xray_denoise, cmap='gray');plt.axis('off');plt.title('denoise with avg filter')"
   ]
  },
  {
   "cell_type": "markdown",
   "metadata": {},
   "source": [
    "## 3.2 Problem II: Convolution\n",
    "`Opencv` is your best friend for digital image processing. Here's how to implement the function above."
   ]
  },
  {
   "cell_type": "code",
   "execution_count": null,
   "metadata": {},
   "outputs": [],
   "source": [
    "# install opencv\n",
    "! pip install opencv-python"
   ]
  },
  {
   "cell_type": "code",
   "execution_count": null,
   "metadata": {},
   "outputs": [],
   "source": [
    "import cv2\n",
    "# patch size\n",
    "psz = 2 * psz_h +1\n",
    "\n",
    "kernel = np.ones([psz, psz])\n",
    "kernel = kernel / kernel.sum()\n",
    "\n",
    "# Applying the filter2D() function\n",
    "I_xray_denoise_cv2 = cv2.filter2D(I_xray_noise, -1, kernel=kernel)\n",
    "\n",
    "plt.subplot(121)\n",
    "plt.imshow(I_xray_denoise, cmap='gray');plt.axis('off');plt.title('avg filter')\n",
    "plt.subplot(122)\n",
    "plt.imshow(I_xray_denoise_cv2, cmap='gray');plt.axis('off');plt.title('avg filter by cv2')"
   ]
  },
  {
   "cell_type": "markdown",
   "metadata": {
    "id": "eLZxOOH-lsU3"
   },
   "source": [
    "# [10 pts] Exercise"
   ]
  },
  {
   "cell_type": "markdown",
   "metadata": {},
   "source": [
    "## (1) [4 pts] Numpy Basics \n",
    "The class CSCI 3397 has `num_students` students. Each student has `num_grades` grades, one for each assignment. \n",
    "The staff store our grades in a numpy ndarray, of shape `(num_students, num_grades)`. (Each row is a student, each column is an assignment)\n",
    "\n",
    "(a) [1 pt] Create an ndarray of the proper shape to hold the grades table, and fill it with random values between 70 and 100. Hint: check out `np.random.random()` from above"
   ]
  },
  {
   "cell_type": "code",
   "execution_count": null,
   "metadata": {
    "id": "zyY8NQpHavAr"
   },
   "outputs": [],
   "source": [
    "num_students = 10\n",
    "num_grades = 3\n",
    "\n",
    "#### create the numpy 2D matrix\n",
    "\n",
    "#### your code starts ####\n",
    "grades_table = ???\n",
    "#### your code ends ####\n",
    "\n",
    "print(grades_table)"
   ]
  },
  {
   "cell_type": "markdown",
   "metadata": {
    "id": "SBzFdf05axgY"
   },
   "source": [
    "(b) [1 pt] We have a meeting with Yufan, whose student index is `4`, and want to see how he's doing in the class. Use ndarray slicing to get an array containing all of his grades."
   ]
  },
  {
   "cell_type": "code",
   "execution_count": null,
   "metadata": {
    "id": "w4oSQJq1lsU4"
   },
   "outputs": [],
   "source": [
    "#### select a row\n",
    "\n",
    "#### your code starts ####\n",
    "yufan_grades = ???\n",
    "\n",
    "#### your code ends ####\n",
    "\n",
    "print('Yufan\\'s grade is:', yufan_grades)\n"
   ]
  },
  {
   "cell_type": "markdown",
   "metadata": {
    "id": "aLp6Agz1a4Jt"
   },
   "source": [
    "(c) [1 pt] Donglai wants to know if PSet 2 (assignment index 2) is too hard. Use ndarray slicing to extract the whole classes grades for PSet 2."
   ]
  },
  {
   "cell_type": "code",
   "execution_count": null,
   "metadata": {
    "id": "uAaLMyIla4R5"
   },
   "outputs": [],
   "source": [
    "#### select a column\n",
    "\n",
    "#### your code starts ####\n",
    "pset2_grades = ???\n",
    "#### your code ends ####\n",
    "\n",
    "print('Pset2 grades are:', pset2_grades)"
   ]
  },
  {
   "cell_type": "markdown",
   "metadata": {
    "id": "iFmh9qhotUOR"
   },
   "source": [
    "(d) [1 pt] Donglai wants to give everyone 20 points as extra credits (yay!) Please update the grades table and cap the maximum points as 100 (i.e., for grades more than 100, set them to 100)"
   ]
  },
  {
   "cell_type": "code",
   "execution_count": null,
   "metadata": {
    "id": "z3gdFZ9osZIF"
   },
   "outputs": [],
   "source": [
    "#### change the grades_table values\n",
    "\n",
    "#### your code starts ####\n",
    "grades_table = ???\n",
    "#### your code ends ####"
   ]
  },
  {
   "cell_type": "markdown",
   "metadata": {},
   "source": [
    "## (2) [2 pts] Pixel-level operations (Problem II: outliers)\n",
    "\n",
    "Implement \"edge\" padding option for a `psz x psz` kernel so that the convolution output size is the \"same \" as the input.\n",
    "\n",
    "- step 1: threshold the image into the rangee [120,160]\n",
    "- step 2: scale the image into [0,255]"
   ]
  },
  {
   "cell_type": "code",
   "execution_count": null,
   "metadata": {},
   "outputs": [],
   "source": [
    "from imageio import imread\n",
    "import matplotlib.pyplot as plt\n",
    "import numpy as np\n",
    "\n",
    "# subsample the image by 4x, so that the noise is more visible\n",
    "I_microscopy = np.load('lab2/microscopy_image.npy')\n",
    "print('Image data type', I_microscopy.dtype)\n",
    "\n",
    "plt.figure(figsize=(8, 4)) \n",
    "\n",
    "# show the image\n",
    "plt.subplot(121)\n",
    "plt.imshow(I_microscopy, cmap='gray')\n",
    "plt.axis('off')\n",
    "plt.title('input image')\n",
    "\n",
    "# show the pixel log-histogram\n",
    "plt.subplot(122)\n",
    "plt.hist(I_microscopy.reshape(-1))\n",
    "plt.yscale('log', nonposy='clip')\n",
    "plt.title('input pixel log-histogram')\n",
    "\n",
    "plt.show()"
   ]
  },
  {
   "cell_type": "code",
   "execution_count": null,
   "metadata": {},
   "outputs": [],
   "source": [
    "#### your code starts ####\n",
    "# step 1. threshold the image into range [120,160]\n",
    "# saturate the outlier pixels\n",
    "\n",
    "# step 2. scale the image into range [0,255]\n",
    "\n",
    "\n",
    "I_microscopy_out = ???\n",
    "#### your code ends ####\n",
    "\n",
    "\n",
    "# visualization code\n",
    "plt.figure(figsize=(8, 4)) \n",
    "\n",
    "# show the image\n",
    "plt.subplot(121)\n",
    "plt.imshow(I_microscopy_out, cmap='gray')\n",
    "plt.axis('off')\n",
    "plt.title('processed image')\n",
    "\n",
    "# show the pixel log-histogram\n",
    "plt.subplot(122)\n",
    "plt.hist(I_microscopy_out.reshape(-1))\n",
    "plt.yscale('log', nonposy='clip')\n",
    "plt.title('processed pixel log-histogram')\n",
    "\n",
    "plt.show()"
   ]
  },
  {
   "cell_type": "markdown",
   "metadata": {},
   "source": [
    "## (3) [4 pts] Patch-level operations (Problem III: padding)\n",
    "\n",
    "Implement \"edge\" padding option for a `psz x psz` kernel so that the convolution output size is the \"same \" as the input.\n",
    "\n",
    "- step 1: create a bigger image\n",
    "- step 2: put the input image in the center\n",
    "- step 3: for the empty borders, instead of filling 0, copy the nearest row/column\n",
    "    = [0.5 pt each] step 3.1, for the first psz_h rows, copy the psz_h-th row\n",
    "    = ... similarly for the last psz_h rows, first psz_h cols, last psz_h cols\n",
    "\n",
    "\n",
    "[[More padding border types]](https://vovkos.github.io/doxyrest-showcase/opencv/sphinx_rtd_theme/enum_cv_BorderTypes.html)"
   ]
  },
  {
   "cell_type": "code",
   "execution_count": null,
   "metadata": {},
   "outputs": [],
   "source": [
    "def padImageSameEdge(image, psz_h):\n",
    "    # psz_h: half patch size\n",
    "    #### your code starts ####\n",
    "    # step 1. create a bigger image\n",
    "    image_out = ???\n",
    "    \n",
    "    # step 2. create a bigger image\n",
    "    \n",
    "    \n",
    "    # step 3.1 create a bigger image\n",
    "    \n",
    "    #### your code ends ####\n",
    "    \n",
    "    return image_out\n",
    "\n",
    "\n",
    "# test code (don't change)\n",
    "I = np.array([[1,2,3],[4,5,6],[7,8,9]])\n",
    "psz_h = 3\n",
    "\n",
    "print('Pad image with \"edge\" option for the same output')\n",
    "print('half patch size', psz_h)\n",
    "print(padImageSameEdge(I, psz_h))"
   ]
  }
 ],
 "metadata": {
  "colab": {
   "collapsed_sections": [],
   "name": "lab1.ipynb",
   "provenance": [
    {
     "file_id": "1_d49_U8Zrz_Ac-QWgXFBzr4CJ4S8fKe1",
     "timestamp": 1614174979410
    }
   ]
  },
  "kernelspec": {
   "display_name": "Python 3",
   "language": "python",
   "name": "python3"
  },
  "language_info": {
   "codemirror_mode": {
    "name": "ipython",
    "version": 3
   },
   "file_extension": ".py",
   "mimetype": "text/x-python",
   "name": "python",
   "nbconvert_exporter": "python",
   "pygments_lexer": "ipython3",
   "version": "3.8.8"
  },
  "varInspector": {
   "cols": {
    "lenName": 16,
    "lenType": 16,
    "lenVar": 40
   },
   "kernels_config": {
    "python": {
     "delete_cmd_postfix": "",
     "delete_cmd_prefix": "del ",
     "library": "var_list.py",
     "varRefreshCmd": "print(var_dic_list())"
    },
    "r": {
     "delete_cmd_postfix": ") ",
     "delete_cmd_prefix": "rm(",
     "library": "var_list.r",
     "varRefreshCmd": "cat(var_dic_list()) "
    }
   },
   "types_to_exclude": [
    "module",
    "function",
    "builtin_function_or_method",
    "instance",
    "_Feature"
   ],
   "window_display": false
  }
 },
 "nbformat": 4,
 "nbformat_minor": 4
}
