{
 "cells": [
  {
   "cell_type": "markdown",
   "metadata": {
    "id": "QuUAgQFQlsJU"
   },
   "source": [
    "# [CSCI 3397/PSYC 3317] Lab 2b: Image Features\n",
    "\n",
    "**Posted:** Saturday, January 29, 2022\n",
    "\n",
    "**Due:** Thursday, February 3, 2022\n",
    "\n",
    "__Total Points__: 8 pts\n",
    "\n",
    "__Submission__: please rename the .ipynb file as __\\<your_username\\>_lab2b.ipynb__ before you submit it to canvas. Example: weidf_lab2b.ipynb."
   ]
  },
  {
   "cell_type": "markdown",
   "metadata": {
    "id": "GVOsLEGclsJZ"
   },
   "source": [
    "# Learning Goals"
   ]
  },
  {
   "cell_type": "markdown",
   "metadata": {
    "id": "W0S-Mj2vXTzq"
   },
   "source": [
    "- Linear filtering: Convolution\n",
    "- Edge detection: Canny\n",
    "- Texture analysis: Entropy\n",
    "- (Optional) Corner detection: Harris"
   ]
  },
  {
   "cell_type": "markdown",
   "metadata": {
    "id": "weMMc2WZlsJc"
   },
   "source": [
    "# 1. Linear filtering"
   ]
  },
  {
   "cell_type": "markdown",
   "metadata": {
    "id": "IRelpfS8lsJz"
   },
   "source": [
    "## 1.1 Box filter and Gaussian fitler\n",
    "\n",
    "Let's compute the Gaussian kernel by the mathematical definition. [[Gaussian function]](https://en.wikipedia.org/wiki/Gaussian_function)\n",
    "\n",
    "(Lec. 4: page 15-16)"
   ]
  },
  {
   "cell_type": "code",
   "execution_count": null,
   "metadata": {
    "id": "bPWkPZ-3lsJ3"
   },
   "outputs": [],
   "source": [
    "import numpy as np\n",
    "import matplotlib.pyplot as plt\n",
    "\n",
    "def getBoxKernel(kernel_size):\n",
    "    box_kernel = np.ones([kernel_size, kernel_size])\n",
    "    # make the kernel sum to be 1\n",
    "    box_kernel = box_kernel/box_kernel.sum()\n",
    "    return box_kernel\n",
    "\n",
    "def getGaussianKernel(kernel_size, sigma):\n",
    "    kernel_size_half = (kernel_size-1) // 2 # // makes sure the division result is int\n",
    "    xx, yy = np.meshgrid(range(-kernel_size_half,kernel_size_half+1),\\\n",
    "                 range(-kernel_size_half,kernel_size_half+1))  \n",
    "    gaussian_kernel = 1/(2*np.pi*sigma**2)*np.exp(-(xx**2+yy**2)/(2*sigma**2))\n",
    "    # make the kernel sum to be 1\n",
    "    gaussian_kernel = gaussian_kernel/gaussian_kernel.sum() \n",
    "    return gaussian_kernel\n",
    "\n",
    "    \n",
    "kernel_size = 11\n",
    "sigmas = [1,3,5]\n",
    "\n",
    "### Gaussian filter kernel (aka. average filter)\n",
    "# create 2D coordinate system (x,y)\n",
    "for i in range(3):\n",
    "    sigma = sigmas[i]\n",
    "    gaussian_kernel = getGaussianKernel(kernel_size, sigma)\n",
    "    plt.subplot(2,2,i+1)\n",
    "    plt.imshow(gaussian_kernel, cmap='gray')\n",
    "    plt.title('Gaussian: sigma=%d' % sigma)\n",
    "    plt.axis('off')\n",
    "    \n",
    "### Box filter kernel (aka. average filter)\n",
    "box_kernel = getBoxKernel(kernel_size)\n",
    "plt.subplot(224)\n",
    "plt.imshow(box_kernel, cmap='gray', vmin=0, vmax=0.01)\n",
    "plt.title('box kernel (sigma=$\\infty$)')\n",
    "plt.axis('off')\n",
    "\n",
    "plt.show()"
   ]
  },
  {
   "cell_type": "markdown",
   "metadata": {},
   "source": [
    "## 1.2 Convolution\n",
    "- Convolution = flip the kernel and do dot product.\n",
    "- Let's see how Gaussian filter have less \"ghosting grid artifact\"\n",
    "\n",
    "(Lec. 4: page 12-13)"
   ]
  },
  {
   "cell_type": "code",
   "execution_count": null,
   "metadata": {},
   "outputs": [],
   "source": [
    "from imageio import imread\n",
    "\n",
    "def convolution2D(image, kernel):\n",
    "    # only for gray image\n",
    "    im_size = np.array(image.shape)\n",
    "    kernel_size = np.array(kernel.shape)\n",
    "    # lec. 3: page 54\n",
    "    # output size for valid conv\n",
    "    valid_size = im_size - kernel_size + 1\n",
    "    out = np.zeros(valid_size, np.uint8)\n",
    "    \n",
    "    # up-down, left-right flip\n",
    "    # For box filter and gaussian filter, there's no need to flip as it's symmetric.\n",
    "    kernel_flip = kernel[::-1, ::-1]\n",
    "    for row in range(valid_size[0]):\n",
    "        for col in range(valid_size[1]):\n",
    "            patch = image[row:row+kernel_size[0], col:col+kernel_size[1]]\n",
    "            out[row, col] = (patch * kernel_flip).sum()\n",
    "    return out     \n",
    "\n",
    "I = imread('lab2/grace_hopper.png')\n",
    "kernel_size = 21\n",
    "sigma = 5\n",
    "# valid convolution\n",
    "box_kernel = getBoxKernel(kernel_size)\n",
    "I_box = convolution2D(I, box_kernel)\n",
    "\n",
    "gaussian_kernel = getGaussianKernel(kernel_size, sigma)\n",
    "I_gauss = convolution2D(I, gaussian_kernel)\n",
    "\n",
    "# look at the vertical bar\n",
    "plt.figure(figsize=(8, 4))\n",
    "plt.subplot(121)\n",
    "plt.imshow(I_box, cmap='gray')\n",
    "plt.title('Box filter')\n",
    "plt.subplot(122)\n",
    "plt.imshow(I_gauss, cmap='gray')\n",
    "plt.title('Gaussian filter');"
   ]
  },
  {
   "cell_type": "markdown",
   "metadata": {
    "id": "J7ijTZXQlsMC"
   },
   "source": [
    "## 1.3 Padding\n",
    "Let's work out an example together. \n",
    "- Input: 11x11 image\n",
    "- Output: \"Same\" convolution with \"constant\" padding value 5\n",
    "\n",
    "[[padding border option]](https://numpy.org/doc/stable/reference/generated/numpy.pad.html)\n",
    "Lec. 3, page 56 "
   ]
  },
  {
   "cell_type": "code",
   "execution_count": null,
   "metadata": {
    "id": "34cv7N9nlsMI"
   },
   "outputs": [],
   "source": [
    "im_size = np.array([5, 5])\n",
    "kernel_size = 5\n",
    "kernel_size_half = (kernel_size - 1)//2\n",
    "\n",
    "\n",
    "I = np.arange(np.prod(im_size)).reshape(im_size)\n",
    "pad_size = im_size + kernel_size - 1\n",
    "\n",
    "# make a bigger image\n",
    "I_pad = np.ones(pad_size) * 5\n",
    "\n",
    "# put the original image in the center\n",
    "I_pad[kernel_size_half : -kernel_size_half,\\\n",
    "      kernel_size_half : -kernel_size_half] = I\n",
    "\n",
    "\n",
    "box_kernel = getBoxKernel(kernel_size)\n",
    "I_conv = convolution2D(I_pad, box_kernel)\n",
    "\n",
    "\n",
    "print('input image\\n', I)\n",
    "print('padded image\\n', I_pad)\n",
    "print('conv output (same)\\n', I_conv)"
   ]
  },
  {
   "cell_type": "markdown",
   "metadata": {},
   "source": [
    "## 1.4 2D Filtering with OpenCV\n",
    "As you now have the hand-on knowledge of convolution, we will directly use OpenCV functions to implement filtering. From now on, please focus on learning how to use these filters (legos) to solve real-world problems.\n",
    "\n",
    "Syntax:\n",
    "- Generic filter: `cv2.filter2D(image, -1, kernel matrix)`\n",
    "- Gaussian: `cv2.GaussianBlur(image, kernel_size, sigma_x, sigma_y)` (if sigma_x=0, it'll be automatically estimated)\n",
    "\n",
    "[[Tutorial]](https://docs.opencv.org/4.x/d4/d13/tutorial_py_filtering.html)"
   ]
  },
  {
   "cell_type": "code",
   "execution_count": null,
   "metadata": {},
   "outputs": [],
   "source": [
    "import cv2"
   ]
  },
  {
   "cell_type": "code",
   "execution_count": null,
   "metadata": {},
   "outputs": [],
   "source": [
    "# if cv2 is not found, install opencv by running the following command\n",
    "! pip install opencv-python"
   ]
  },
  {
   "cell_type": "code",
   "execution_count": null,
   "metadata": {},
   "outputs": [],
   "source": [
    "import cv2\n",
    "I = imread('lab2/grace_hopper.png')\n",
    "kernel_size = 21\n",
    "sigma = 5\n",
    "\n",
    "# Box filter\n",
    "I_box = cv2.filter2D(I, -1, getBoxKernel(kernel_size))\n",
    "\n",
    "# motion blur filter\n",
    "# 1D version of box filter, as if the object moves really fast in one direction\n",
    "I_mblur = cv2.filter2D(I, -1, np.ones(kernel_size)/kernel_size)\n",
    "\n",
    "# Gaussian filter\n",
    "I_gauss = cv2.GaussianBlur(I, (kernel_size,kernel_size), 0)\n",
    "\n",
    "plt.figure(figsize=(8, 8))\n",
    "plt.subplot(221);plt.imshow(I_box, cmap='gray')\n",
    "plt.subplot(222);plt.imshow(I_gauss, cmap='gray')\n",
    "plt.subplot(223);plt.imshow(I_mblur, cmap='gray')"
   ]
  },
  {
   "cell_type": "markdown",
   "metadata": {},
   "source": [
    "# 2. Edge detection: Canny\n",
    "In this section, you will reproduce the edge detection results in the slides."
   ]
  },
  {
   "cell_type": "code",
   "execution_count": null,
   "metadata": {},
   "outputs": [],
   "source": [
    "I_cell = imread('lab2/cell_canny_im.png')\n",
    "plt.imshow(I_cell, cmap='gray')\n",
    "plt.axis('off')\n",
    "plt.title('input image');"
   ]
  },
  {
   "cell_type": "markdown",
   "metadata": {},
   "source": [
    "## 2.1 Robust gradient filtering\n",
    "Convolve with DoG filter.\n",
    "\n",
    "Lec. 4, page 24-26"
   ]
  },
  {
   "cell_type": "code",
   "execution_count": null,
   "metadata": {},
   "outputs": [],
   "source": [
    "from imageio import imread\n",
    "import matplotlib.pyplot as plt\n",
    "import cv2\n",
    "\n",
    "I_cell2 = I_cell[::2,::2]\n",
    "I_cell2 = np.clip(I_cell2.astype(float)  +  20 * np.random.random(I_cell2.shape),0,255)\n",
    "\n",
    "# direct difference filter: [1, -1]\n",
    "kernel_diff = np.array([1,-1])\n",
    "Iy = cv2.filter2D(I_cell2, -1, kernel_diff)\n",
    "Ix = cv2.filter2D(I_cell2, -1, kernel_diff.reshape([1,2]))\n",
    "\n",
    "# DoG filter\n",
    "kernel_size = 5\n",
    "I_guass = cv2.GaussianBlur(I_cell2, [kernel_size,kernel_size], 0)\n",
    "Iy_DoG = cv2.filter2D(I_guass, -1, kernel_diff)\n",
    "Ix_DoG = cv2.filter2D(I_guass, -1, kernel_diff.reshape([1,2]))\n",
    "\n",
    "\n",
    "# show the image\n",
    "plt.figure(figsize=(8, 8)) \n",
    "plt.subplot(221)\n",
    "plt.imshow(Ix, cmap='gray')\n",
    "plt.axis('off')\n",
    "plt.title('Dx filter')\n",
    "\n",
    "# show the pixel value histogram\n",
    "plt.subplot(222)\n",
    "plt.imshow(Iy, cmap='gray')\n",
    "plt.axis('off')\n",
    "plt.title('Dy filter')\n",
    "\n",
    "plt.subplot(223)\n",
    "plt.imshow(np.abs(Iy), cmap='gray')\n",
    "plt.axis('off')\n",
    "plt.title('Dy filter+threshold: noisy')\n",
    "\n",
    "plt.subplot(224)\n",
    "plt.imshow(np.abs(Iy_DoG), cmap='gray')\n",
    "plt.axis('off')\n",
    "plt.title('DoG-y filter+threshold: less noisy')\n",
    "\n",
    "\n",
    "plt.show()"
   ]
  },
  {
   "cell_type": "markdown",
   "metadata": {},
   "source": [
    "## 2.2 Non-maximum suppression\n",
    "\n",
    "Here's a simplified implementation. Instead of using the estimated gradient direction and interploating the neighboring pixel value, the code below bins the gradient direction in 8 directions so that we can directly get the neighboring pixel with integer location.\n",
    "\n",
    "<img src=\"https://i2.wp.com/www.adeveloperdiary.com/wp-content/uploads/2019/05/Implement-Canny-Edge-Detection-Algorithm-using-Python-from-scratch-adeveloperdiary.com-5.jpg\">\n",
    "\n",
    "Lec. 4, page 28"
   ]
  },
  {
   "cell_type": "code",
   "execution_count": null,
   "metadata": {},
   "outputs": [],
   "source": [
    "def non_max_suppression(gradient_magnitude, gradient_direction):\n",
    "    image_row, image_col = gradient_magnitude.shape\n",
    "    output = np.zeros(gradient_magnitude.shape)\n",
    "    PI = 180\n",
    " \n",
    "    for row in range(1, image_row - 1):\n",
    "        for col in range(1, image_col - 1):\n",
    "            direction = gradient_direction[row, col] \n",
    "            if (0 <= direction < PI / 8) or (15 * PI / 8 <= direction <= 2 * PI):\n",
    "                before_pixel = gradient_magnitude[row, col - 1]\n",
    "                after_pixel = gradient_magnitude[row, col + 1]\n",
    " \n",
    "            elif (PI / 8 <= direction < 3 * PI / 8) or (9 * PI / 8 <= direction < 11 * PI / 8):\n",
    "                before_pixel = gradient_magnitude[row + 1, col - 1]\n",
    "                after_pixel = gradient_magnitude[row - 1, col + 1]\n",
    " \n",
    "            elif (3 * PI / 8 <= direction < 5 * PI / 8) or (11 * PI / 8 <= direction < 13 * PI / 8):\n",
    "                before_pixel = gradient_magnitude[row - 1, col]\n",
    "                after_pixel = gradient_magnitude[row + 1, col] \n",
    "            else:\n",
    "                before_pixel = gradient_magnitude[row - 1, col - 1]\n",
    "                after_pixel = gradient_magnitude[row + 1, col + 1]\n",
    " \n",
    "            if gradient_magnitude[row, col] >= before_pixel and gradient_magnitude[row, col] >= after_pixel:\n",
    "                output[row, col] = gradient_magnitude[row, col] \n",
    "    return output\n",
    "\n",
    "\n",
    "### DoG_{x,y} -> thick edge\n",
    "# lec. 4, page 25\n",
    "Ig_DoG = (Ix_DoG**2 + Iy_DoG**2) ** 0.5\n",
    "\n",
    "### NMS\n",
    "Ig_DoG_dir = np.arctan2(Iy_DoG, Ix_DoG)\n",
    "Ig_DoG_nms = non_max_suppression(Ig_DoG, Ig_DoG_dir)\n",
    "\n",
    "plt.figure(figsize=(8, 8)) \n",
    "plt.subplot(131)\n",
    "plt.imshow(Ig_DoG, cmap='gray')\n",
    "plt.axis('off');plt.title('edge magnitude')\n",
    "plt.subplot(132)\n",
    "plt.imshow(Ig_DoG_dir)\n",
    "plt.axis('off');plt.title('edge direction')\n",
    "plt.subplot(133)\n",
    "plt.imshow(Ig_DoG_nms, cmap='gray')\n",
    "plt.axis('off');plt.title('edge nms');"
   ]
  },
  {
   "cell_type": "markdown",
   "metadata": {},
   "source": [
    "# 3. Texture analysis"
   ]
  },
  {
   "cell_type": "markdown",
   "metadata": {},
   "source": [
    "## 3.1 Shannon Entropy\n",
    "Given an 1D array, the Shannon Entropy formula is:\n",
    "$\\mathcal{H} = -\\sum_{i} p_i \\log_2(p_i)$\n",
    "\n",
    "Lec. 4, page 42"
   ]
  },
  {
   "cell_type": "code",
   "execution_count": null,
   "metadata": {},
   "outputs": [],
   "source": [
    "import numpy as np\n",
    "\n",
    "def computeEntropy(arr):\n",
    "    # convert the input to 1D array\n",
    "    count = np.bincount(np.array(arr).reshape(-1))\n",
    "    prob = count.astype(float) / count.sum()\n",
    "    # take the non-zero element (assume 0log(0)=0)\n",
    "    prob = prob[prob>0]\n",
    "    H = -(prob * np.log2(prob)).sum()\n",
    "    return H\n",
    "\n",
    "for arr in [[0,1,2,3],[2,2,2,2]]:\n",
    "    print('Array: ',arr)\n",
    "    print('Entropy: ', computeEntropy(arr))"
   ]
  },
  {
   "cell_type": "markdown",
   "metadata": {},
   "source": [
    "# 4. [Optional] Harris corner detection\n",
    "Here's the one-line function to find corners in your image.\n",
    "\n",
    "lec. 4, page 45-55  [[OpenCV tutorial]](https://opencv24-python-tutorials.readthedocs.io/en/latest/py_tutorials/py_feature2d/py_features_harris/py_features_harris.html)"
   ]
  },
  {
   "cell_type": "code",
   "execution_count": null,
   "metadata": {},
   "outputs": [],
   "source": [
    "from imageio import imread\n",
    "import matplotlib.pyplot as plt\n",
    "\n",
    "img = imread('lab2/checkerboard.jpg')\n",
    "\n",
    "# Harris corner detection only runs on single-channel image\n",
    "dst = cv2.cornerHarris(img[:,:,0],2,3,0.04)\n",
    "\n",
    "# Threshold for an optimal value, it may vary depending on the image.\n",
    "# mark the corner as red\n",
    "img_out = img.copy()\n",
    "img_out[dst>0.1*dst.max()]=[255,0,0]\n",
    "\n",
    "plt.figure(figsize=(12, 8))\n",
    "plt.subplot(121)\n",
    "plt.imshow(img)\n",
    "plt.subplot(122)\n",
    "plt.imshow(img_out)\n"
   ]
  },
  {
   "cell_type": "markdown",
   "metadata": {
    "id": "eLZxOOH-lsU3"
   },
   "source": [
    "# [8 pts] Exercise"
   ]
  },
  {
   "cell_type": "markdown",
   "metadata": {},
   "source": [
    "## (1) [2 pts] Median filter  (sec. 1)\n",
    "One main take-away from the class is the ability to quickly find and learn to use new tools. OpenCV has many image processing algorithms implemented and you need to dig them out. \n",
    "- Oh no, the image is corrupted by dirt. Let's denoise it\n",
    "- Try to look up and find out the (one-line) openCV function to do median filter"
   ]
  },
  {
   "cell_type": "code",
   "execution_count": null,
   "metadata": {
    "id": "zyY8NQpHavAr"
   },
   "outputs": [],
   "source": [
    "I = imread('lab2/grace_hopper.png')\n",
    "dirt_mask = np.random.random(I.shape)>0.8\n",
    "I_dirt = I.copy()\n",
    "I_dirt[dirt_mask] = 0\n",
    "\n",
    "plt.figure(figsize=(8, 8))\n",
    "plt.subplot(121)\n",
    "plt.imshow(I_dirt, cmap='gray')\n",
    "plt.title('dirt image')\n",
    "\n",
    "kernel_size = 5\n",
    "#### your code starts ####\n",
    "# I_fixed = ???\n",
    "#### your code ends ####\n",
    "plt.subplot(122)\n",
    "plt.imshow(I_fixed, cmap='gray')\n",
    "plt.title('dirt image')"
   ]
  },
  {
   "cell_type": "markdown",
   "metadata": {},
   "source": [
    "## (2) [4 pts] Canny Edge: hysteresis thresholding (sec. 2)\n",
    "\n",
    "Lec. 4, page 6 (transfer function), page 30 (hysteresis)"
   ]
  },
  {
   "cell_type": "code",
   "execution_count": null,
   "metadata": {},
   "outputs": [],
   "source": [
    "from imageio import imread\n",
    "import matplotlib.pyplot as plt\n",
    "import numpy as np\n",
    "\n",
    "from skimage.measure import label\n",
    "from skimage.color import label2rgb\n",
    "\n",
    "threshold_high = 20\n",
    "threshold_low = 3\n",
    "\n",
    "#### your code starts ####\n",
    "# input: Ig_DoG_nms\n",
    "# run cells in section 2 to get Ig_DoG_nms\n",
    "strong_edge = ???\n",
    "weak_edge = ???\n",
    "#### your code ends ####\n",
    "\n",
    "# step 1. compute connected components\n",
    "# https://scikit-image.org/docs/dev/api/skimage.measure.html#skimage.measure.label\n",
    "weak_edge_components = label(weak_edge, connectivity=2)\n",
    "# find out which component ids the strong edges have\n",
    "edge_id = np.unique(weak_edge_components[strong_edge>0]) \n",
    "\n",
    "\n",
    "# step 2. bring \"connected\" weak edge components to the final edge\n",
    "# pick up all weak edges that have those component ids\n",
    "# naively, you can do a for loop to add up the mask for each component id\n",
    "# here, let's use the \"transfer\" function\n",
    "relabel = np.zeros(weak_edge_components.max()+1)\n",
    "\n",
    "# btw, the result isn't great as the nms function we used is a simplified version\n",
    "#### your code starts ####\n",
    "# remember the look up table.\n",
    "# the goal here is to assign ids in `weak_edge_components` to 1 if it's within `edge_id`; 0 otherwise\n",
    "# by default, all old input pixel values (weak edge component ids) are mapped to 0\n",
    "# assign the `edge_id` component ids to 1\n",
    "relabel[edge_id] = ???\n",
    "\n",
    "# apply the transfer function to weak_edge_components\n",
    "edge_final = ???\n",
    "#### your code ends ####\n",
    "\n",
    "\n",
    "# show the image\n",
    "plt.figure(figsize=(8, 8))\n",
    "plt.subplot(221)\n",
    "plt.imshow(strong_edge, cmap='gray')\n",
    "plt.axis('off')\n",
    "plt.title('strong edge')\n",
    "\n",
    "plt.subplot(222)\n",
    "plt.imshow(weak_edge, cmap='gray')\n",
    "plt.axis('off')\n",
    "plt.title('weak edge')\n",
    "\n",
    "plt.subplot(223)\n",
    "plt.imshow(label2rgb(weak_edge_components, bg_label=0), cmap='gray')\n",
    "plt.axis('off')\n",
    "plt.title('weak edge components')\n",
    "\n",
    "plt.subplot(224)\n",
    "plt.imshow(edge_final, cmap='gray')\n",
    "plt.axis('off')\n",
    "plt.title('final edge')\n",
    "plt.show()"
   ]
  },
  {
   "cell_type": "markdown",
   "metadata": {},
   "source": [
    "## (3) [2 pts] Texture analysis: Find the hidden pattern  (sec. 3)\n",
    "Lec. 4, page 39"
   ]
  },
  {
   "cell_type": "code",
   "execution_count": null,
   "metadata": {},
   "outputs": [],
   "source": [
    "from imageio import imread\n",
    "import matplotlib.pyplot as plt\n",
    "import numpy as np\n",
    "\n",
    "# run sec. 3 cells first\n",
    "\n",
    "im = imread('lab2/texture_noise.png')\n",
    "im_size = np.array(im.shape)\n",
    "\n",
    "kernel_size = 21\n",
    "out_size = im_size - kernel_size + 1\n",
    "\n",
    "out = np.zeros(out_size)\n",
    "for row in range(out_size[0]):\n",
    "    for col in range(out_size[1]):\n",
    "        #### your code starts ####\n",
    "        patch = ???\n",
    "        out[row, col] = ???\n",
    "        #### your code ends ####\n",
    "        \n",
    "plt.subplot(121)\n",
    "plt.imshow(im, cmap='gray')\n",
    "plt.subplot(122)\n",
    "plt.imshow(out)"
   ]
  }
 ],
 "metadata": {
  "colab": {
   "collapsed_sections": [],
   "name": "lab1.ipynb",
   "provenance": [
    {
     "file_id": "1_d49_U8Zrz_Ac-QWgXFBzr4CJ4S8fKe1",
     "timestamp": 1614174979410
    }
   ]
  },
  "kernelspec": {
   "display_name": "Python 3",
   "language": "python",
   "name": "python3"
  },
  "language_info": {
   "codemirror_mode": {
    "name": "ipython",
    "version": 3
   },
   "file_extension": ".py",
   "mimetype": "text/x-python",
   "name": "python",
   "nbconvert_exporter": "python",
   "pygments_lexer": "ipython3",
   "version": "3.8.8"
  },
  "varInspector": {
   "cols": {
    "lenName": 16,
    "lenType": 16,
    "lenVar": 40
   },
   "kernels_config": {
    "python": {
     "delete_cmd_postfix": "",
     "delete_cmd_prefix": "del ",
     "library": "var_list.py",
     "varRefreshCmd": "print(var_dic_list())"
    },
    "r": {
     "delete_cmd_postfix": ") ",
     "delete_cmd_prefix": "rm(",
     "library": "var_list.r",
     "varRefreshCmd": "cat(var_dic_list()) "
    }
   },
   "types_to_exclude": [
    "module",
    "function",
    "builtin_function_or_method",
    "instance",
    "_Feature"
   ],
   "window_display": false
  }
 },
 "nbformat": 4,
 "nbformat_minor": 4
}
