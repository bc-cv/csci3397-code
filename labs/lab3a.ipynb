{
 "cells": [
  {
   "cell_type": "markdown",
   "metadata": {
    "id": "QuUAgQFQlsJU"
   },
   "source": [
    "# [CSCI 3397/PSYC 3317] Lab 3a: Image Preprocessing\n",
    "\n",
    "**Posted:** Tuesday, February 1, 2022\n",
    "\n",
    "**Due:** Thursday, February 10, 2022\n",
    "\n",
    "__Total Points__: 2 pts\n",
    "\n",
    "__Submission__: please rename the .ipynb file as __\\<your_username\\>_lab3a.ipynb__ before you submit it to canvas. Example: weidf_lab3a.ipynb."
   ]
  },
  {
   "cell_type": "markdown",
   "metadata": {
    "id": "GVOsLEGclsJZ"
   },
   "source": [
    "# Microscopy image applications with tools in Lec. 3"
   ]
  },
  {
   "cell_type": "markdown",
   "metadata": {
    "id": "W0S-Mj2vXTzq"
   },
   "source": [
    "- Transfer function\n",
    "    - 1. Image adjustment\n",
    "\n",
    "- Filtering\n",
    "    - 2. Background subtraction\n",
    "    - 3. Illumination correction\n",
    "    - 4. Blob filter (Laplacian of Gaussian)"
   ]
  },
  {
   "cell_type": "markdown",
   "metadata": {
    "id": "weMMc2WZlsJc"
   },
   "source": [
    "# 1. Fluorescent image visualization"
   ]
  },
  {
   "cell_type": "code",
   "execution_count": null,
   "metadata": {},
   "outputs": [],
   "source": [
    "import matplotlib.pyplot as plt\n",
    "from imageio import volread\n",
    "import numpy as np\n",
    "\n",
    "# (1) Naive approach: Recap Lab1b\n",
    "\n",
    "def volToRGB(vol):\n",
    "    im_size = vol.shape\n",
    "    # load channels into different RGB channel\n",
    "    im = np.zeros([im_size[1], im_size[2], 3], np.uint8)\n",
    "    for cid in range(3):    \n",
    "        im[:, :, cid] = vol[cid]\n",
    "        print('channel %d value: %d-%d' % (cid, vol[cid].min(), vol[cid].max()))\n",
    "    return im\n",
    "\n",
    "\n",
    "# unlike imread, volread loads image volume\n",
    "vol = volread('lab3/CovidRollingball.tif')\n",
    "print('vol size: ', vol.shape)\n",
    "print('The first dimension is the channel dimension')\n",
    "\n",
    "# display image\n",
    "plt.imshow(volToRGB(vol))\n",
    "plt.axis('off')\n",
    "plt.title('First 3 channels (naive)');\n",
    "\n",
    "print('--------------------------')\n",
    "print('It looks horrible...')\n",
    "print('Error I: the channel type is uint16 with values bigger than 255')\n",
    "print('Error II: need a transfer function to adjust the range of the image')"
   ]
  },
  {
   "cell_type": "code",
   "execution_count": null,
   "metadata": {},
   "outputs": [],
   "source": [
    "# (2) recap the transfer function in Lec. 3\n",
    "# from now on, we will use imAdjust for visualization: imshow(imAdjust(I)) instead of imshow(I)\n",
    "\n",
    "\n",
    "def imAdjust(I, thres=[1,99]):\n",
    "    # compute percentile: remove too big or too small values\n",
    "    I_low, I_high = np.percentile(I.reshape(-1), thres)\n",
    "    # thresholding\n",
    "    I[I > I_high] = I_high\n",
    "    I[I < I_low] = I_low\n",
    "    # scale to 0-1\n",
    "    I = (I.astype(float)- I_low)/ (I_high-I_low)\n",
    "    # convert it to uint8\n",
    "    I = (I * 255).astype(np.uint8)\n",
    "    return I\n",
    "\n",
    "def volAdjust(vol, thres=[1,99]):\n",
    "    # apply imAdjust to each channel\n",
    "    vol_adjust = vol.copy()\n",
    "    for cid in range(vol.shape[0]):\n",
    "        vol_adjust[cid] = imAdjust(vol[cid])\n",
    "    return vol_adjust\n",
    "\n",
    "\n",
    "# display image\n",
    "plt.imshow(volToRGB(volAdjust(vol)))\n",
    "plt.axis('off')\n",
    "plt.title('First 3 channels (imAdjust)');"
   ]
  },
  {
   "cell_type": "markdown",
   "metadata": {},
   "source": [
    "# 2. Background subtraction"
   ]
  },
  {
   "cell_type": "markdown",
   "metadata": {},
   "source": [
    "We will learn more about morphological filtering and top-hat filter in Lec. 6. \n",
    "Here, only need to \n",
    "- observe that the top-hat operation makes the object border smoother [[link]](https://micro.magnet.fsu.edu/primer/java/digitalimaging/russ/tophatfilter/index.html)\n",
    "- have fun with the interactive slide bar, which is hugely useful when you want to tweak parameters! [[link]](https://ipywidgets.readthedocs.io/en/latest/examples/Using%20Interact.html)"
   ]
  },
  {
   "cell_type": "code",
   "execution_count": null,
   "metadata": {
    "id": "bPWkPZ-3lsJ3"
   },
   "outputs": [],
   "source": [
    "import numpy as np\n",
    "import matplotlib.pyplot as plt\n",
    "from imageio import volread\n",
    "import cv2\n",
    "\n",
    "# let's make a widget:\n",
    "from __future__ import print_function\n",
    "from ipywidgets import interact, interactive, fixed, interact_manual\n",
    "import ipywidgets as widgets\n",
    "\n",
    "\n",
    "# take a single channel and focus on one cell\n",
    "# global variable\n",
    "I = volread('lab3/CovidRollingball.tif')[1, 50:170,150:250]\n",
    "\n",
    "\n",
    "def tophatFilter(filterSize):\n",
    "    # top-hat filter\n",
    "    kernel = np.ones([filterSize, filterSize])\n",
    "    tophat_img = cv2.morphologyEx(I, cv2.MORPH_TOPHAT, kernel)\n",
    "    \n",
    "    plt.figure(figsize=(8, 16))\n",
    "    plt.subplot(131)\n",
    "    plt.imshow(imAdjust(I), cmap='gray')\n",
    "    plt.title('input image')\n",
    "    plt.axis('off')\n",
    "\n",
    "    plt.subplot(132)\n",
    "    plt.imshow(imAdjust(tophat_img), cmap='gray')\n",
    "    plt.title('tophat: border artifacts')\n",
    "    plt.axis('off')\n",
    "\n",
    "    plt.subplot(133)\n",
    "    plt.imshow(imAdjust(I-tophat_img), cmap='gray')\n",
    "    plt.title('input - tophat')\n",
    "    plt.axis('off')\n",
    "\n",
    "    plt.show()\n",
    "    \n",
    "interact(tophatFilter, filterSize=widgets.IntSlider(min=3, max=31, step=1, value=5));\n"
   ]
  },
  {
   "cell_type": "markdown",
   "metadata": {},
   "source": [
    "# 3. Illumination correction\n",
    "Load the pre-computed background pattern. This is a fixed microscope artifact and we can remove it computationally"
   ]
  },
  {
   "cell_type": "code",
   "execution_count": null,
   "metadata": {},
   "outputs": [],
   "source": [
    "from imageio import imread,imsave\n",
    "FFC = imread('lab3/FFC.tif');\n",
    "sz = FFC.shape\n",
    "# for storage\n",
    "print('tile size:', FFC.shape)\n",
    "print('value range:', FFC.min(), FFC.max())\n",
    "\n",
    "plt.imshow(FFC,cmap='gray');plt.axis('off')\n",
    "plt.show()"
   ]
  },
  {
   "cell_type": "code",
   "execution_count": null,
   "metadata": {},
   "outputs": [],
   "source": [
    "I_stitched = np.zeros([sz[0]*7, sz[1]*13], np.uint16);\n",
    "\n",
    "for row in range(7):       \n",
    "    for col in range(13):\n",
    "        # well, different ppl have different preference for the starting index: 0 or 1\n",
    "        I = imread('lab3/unstitchedTiles/FITC_x_%d_y_%d.tif'% (1+col, 1+row));\n",
    "        I_stitched[row*sz[0]: (row+1)*sz[0], col*sz[1]: (col+1)*sz[1]] = I\n",
    "\n",
    "plt.figure(figsize=(16, 32))\n",
    "plt.imshow(imAdjust(I_stitched), cmap='gray')\n",
    "plt.show()"
   ]
  },
  {
   "cell_type": "code",
   "execution_count": null,
   "metadata": {},
   "outputs": [],
   "source": [
    "I_stitched_bg = np.zeros([sz[0]*7, sz[1]*13], np.uint16);\n",
    "\n",
    "for row in range(7):       \n",
    "    for col in range(13):\n",
    "        #### divide the lighting pattern\n",
    "        I = imread('lab3/unstitchedTiles/FITC_x_%d_y_%d.tif'% (1+col, 1+row)).astype(float)/FFC;\n",
    "        I_stitched_bg[row*sz[0]: (row+1)*sz[0], col*sz[1]: (col+1)*sz[1]] = I\n",
    "\n",
    "plt.figure(figsize=(16, 32))\n",
    "plt.imshow(imAdjust(I_stitched_bg), cmap='gray')\n",
    "plt.show()"
   ]
  },
  {
   "cell_type": "code",
   "execution_count": null,
   "metadata": {},
   "outputs": [],
   "source": [
    "# for a zoom-in comparison\n",
    "# There are vertical dark stripes for the naive stitching\n",
    "\n",
    "plt.figure(figsize=(16, 32))\n",
    "plt.subplot(121)\n",
    "plt.imshow(imAdjust(I_stitched[:, :1500]), cmap='gray')\n",
    "plt.axis('off');plt.title('Naive stitching')\n",
    "plt.subplot(122)\n",
    "plt.imshow(imAdjust(I_stitched_bg[:, :1500]), cmap='gray')\n",
    "plt.axis('off');plt.title('Stitching with bg subtraction')\n",
    "plt.show()"
   ]
  },
  {
   "cell_type": "markdown",
   "metadata": {
    "id": "J7ijTZXQlsMC"
   },
   "source": [
    "# 4. Blob detection with LoG filter\n",
    "We learned about Gaussian filter (G) for denoising, difference of Gaussian filter (DoG) for robust edge detection.\n",
    "Today, let's look at Laplacian of Gaussian filter (LoG) for blob detection. \n",
    "\n",
    "[[More maths explanation]](https://en.wikipedia.org/wiki/Blob_detection)\n",
    "\n",
    "Maths formula: <img src=\"https://cdn-images-1.medium.com/max/800/0*5uzMO2ZULkv6Pcpr.gif\">\n",
    "\n",
    "Kernel visualization: <img src=\"https://cdn-images-1.medium.com/max/800/1*I9LJae_DIAZe6q4AkdayyA.png\">"
   ]
  },
  {
   "cell_type": "code",
   "execution_count": null,
   "metadata": {
    "id": "34cv7N9nlsMI"
   },
   "outputs": [],
   "source": [
    "from imageio import volread\n",
    "from skimage.feature import blob_log\n",
    "import cv2\n",
    "\n",
    "def LoG(sigma):\n",
    "    #window size \n",
    "    n = np.ceil(sigma*6)\n",
    "    y,x = np.ogrid[-n//2:n//2+1,-n//2:n//2+1]\n",
    "    y_filter = np.exp(-(y*y/(2.*sigma*sigma)))\n",
    "    x_filter = np.exp(-(x*x/(2.*sigma*sigma)))\n",
    "    final_filter = (-(2*sigma**2) + (x*x + y*y) ) *  (x_filter*y_filter) * (1/(2*np.pi*sigma**4))\n",
    "    return final_filter\n",
    "\n",
    "I = volread('lab3/cycif.tif')[1]\n",
    "I_LoG = cv2.filter2D(I, -1, LoG(1.6))\n",
    "\n",
    "\n",
    "plt.figure(figsize=(16, 32))\n",
    "plt.subplot(121)\n",
    "plt.imshow(imAdjust(I), cmap='gray')\n",
    "plt.axis('off');plt.title('input image')\n",
    "plt.subplot(122)\n",
    "plt.imshow(imAdjust(I_LoG), cmap='gray')\n",
    "plt.axis('off');plt.title('LoG result: bright blobs left')\n",
    "plt.show()\n",
    "\n"
   ]
  },
  {
   "cell_type": "markdown",
   "metadata": {
    "id": "eLZxOOH-lsU3"
   },
   "source": [
    "# [2 pts] Exercise\n",
    "As pset1 is coming up, we'll make this lab light-weight :)"
   ]
  },
  {
   "cell_type": "markdown",
   "metadata": {},
   "source": [
    "## (1) [2 pts] Make your own slider for parameter selection!\n",
    "\n",
    "Let's find the pixel value threshold $\\theta$ so the brightfield image of bacteria: any pixel value bigger than $\\theta$ is assign to 1 and 0 otherwise."
   ]
  },
  {
   "cell_type": "code",
   "execution_count": null,
   "metadata": {},
   "outputs": [],
   "source": [
    "from imageio import imread\n",
    "\n",
    "# example: with a bad threshold, you can't get all bacteria\n",
    "I = imread('lab3/brightfield_bacteria.jpg')\n",
    "\n",
    "th = 70\n",
    "\n",
    "plt.figure(figsize=(16, 32))\n",
    "plt.subplot(121)\n",
    "plt.imshow(I, cmap='gray')\n",
    "plt.axis('off');plt.title('input image')\n",
    "plt.subplot(122)\n",
    "plt.imshow(I>th, cmap='gray')\n",
    "plt.axis('off');plt.title('bad thresholded binary image')\n",
    "plt.show()"
   ]
  },
  {
   "cell_type": "code",
   "execution_count": null,
   "metadata": {},
   "outputs": [],
   "source": [
    "# make a slider so that ppl can manually pick the value needed to get all bacteria\n",
    "### Your code starts\n",
    "### Your code ends"
   ]
  }
 ],
 "metadata": {
  "colab": {
   "collapsed_sections": [],
   "name": "lab1.ipynb",
   "provenance": [
    {
     "file_id": "1_d49_U8Zrz_Ac-QWgXFBzr4CJ4S8fKe1",
     "timestamp": 1614174979410
    }
   ]
  },
  "kernelspec": {
   "display_name": "Python 3",
   "language": "python",
   "name": "python3"
  },
  "language_info": {
   "codemirror_mode": {
    "name": "ipython",
    "version": 3
   },
   "file_extension": ".py",
   "mimetype": "text/x-python",
   "name": "python",
   "nbconvert_exporter": "python",
   "pygments_lexer": "ipython3",
   "version": "3.8.8"
  },
  "varInspector": {
   "cols": {
    "lenName": 16,
    "lenType": 16,
    "lenVar": 40
   },
   "kernels_config": {
    "python": {
     "delete_cmd_postfix": "",
     "delete_cmd_prefix": "del ",
     "library": "var_list.py",
     "varRefreshCmd": "print(var_dic_list())"
    },
    "r": {
     "delete_cmd_postfix": ") ",
     "delete_cmd_prefix": "rm(",
     "library": "var_list.r",
     "varRefreshCmd": "cat(var_dic_list()) "
    }
   },
   "types_to_exclude": [
    "module",
    "function",
    "builtin_function_or_method",
    "instance",
    "_Feature"
   ],
   "window_display": false
  }
 },
 "nbformat": 4,
 "nbformat_minor": 4
}
