{
 "cells": [
  {
   "cell_type": "markdown",
   "metadata": {
    "id": "QuUAgQFQlsJU"
   },
   "source": [
    "# [CSCI 3397/PSYC 3317] Lab 4a: Image Segmentation I\n",
    "\n",
    "**Posted:** Tuesday, February 8, 2022\n",
    "\n",
    "**Due:** Thursday, February 17, 2022\n",
    "\n",
    "__Total Points__: 4 pts\n",
    "\n",
    "__Submission__: please rename the .ipynb file as __\\<your_username\\>_lab4a.ipynb__ before you submit it to canvas. Example: weidf_lab4a.ipynb."
   ]
  },
  {
   "cell_type": "markdown",
   "metadata": {
    "id": "weMMc2WZlsJc"
   },
   "source": [
    "# 1. Semantic segmentation"
   ]
  },
  {
   "cell_type": "code",
   "execution_count": null,
   "metadata": {},
   "outputs": [],
   "source": [
    "# load/visualize image\n",
    "from imageio import volread\n",
    "import matplotlib.pyplot as plt\n",
    "\n",
    "import sys\n",
    "sys.path.append('../')\n",
    "from T_util import * \n",
    "# import handy functions in T_util\n",
    "\n",
    "img1 = imAdjust(volread('lab3/exemplar-001-cycle-01.ome.tiff')[0,687:787,687:787])\n",
    "\n",
    "plt.figure(figsize=(8, 8)) \n",
    "plt.imshow(img1, cmap='gray')\n",
    "plt.axis('off')\n",
    "plt.show()\n"
   ]
  },
  {
   "cell_type": "markdown",
   "metadata": {},
   "source": [
    "## 1.1 Naive thresholding\n",
    "\n",
    "Lec. 6, Page 29"
   ]
  },
  {
   "cell_type": "code",
   "execution_count": null,
   "metadata": {},
   "outputs": [],
   "source": [
    "ths = [30,70,120]\n",
    "\n",
    "plt.figure(figsize=(16, 8))\n",
    "\n",
    "for i,th in enumerate(ths):\n",
    "    seg_semantic = (img1 > th)\n",
    "    plt.subplot(1,3,i+1)\n",
    "    plt.imshow(seg_semantic, cmap='gray')\n",
    "    plt.title('Threshold %d' % th)\n",
    "    plt.axis('off')\n"
   ]
  },
  {
   "cell_type": "markdown",
   "metadata": {},
   "source": [
    "## 1.2 Otsu thresholding\n",
    "\n",
    "In practice, we can apply a Gaussian filter to denoise the image a bit, so that the two classes can be better separated.\n",
    "\n",
    "<img src=\"https://docs.opencv.org/4.x/otsu.jpg\">\n",
    "\n",
    "[More details](https://docs.opencv.org/4.x/d7/d4d/tutorial_py_thresholding.html)\n",
    "\n",
    "Lec. 6, Page 31"
   ]
  },
  {
   "cell_type": "code",
   "execution_count": null,
   "metadata": {},
   "outputs": [],
   "source": [
    "import cv2\n",
    "\n",
    "# direct Ostu\n",
    "th_otsu, img1_otsu = cv2.threshold(img1, 0, 255, cv2.THRESH_BINARY+cv2.THRESH_OTSU)\n",
    "\n",
    "# Gaussian blur + Ostu\n",
    "img1_blur = cv2.GaussianBlur(img1,(5,5),0)\n",
    "th_blur_otsu, img1_blur_otsu = cv2.threshold(img1_blur, 0, 255, cv2.THRESH_BINARY+cv2.THRESH_OTSU)\n",
    "\n",
    "\n",
    "\n",
    "plt.figure(figsize=(12, 8))\n",
    "plt.subplot(121)\n",
    "plt.imshow(img1_otsu, cmap='gray')\n",
    "plt.title('Otsu Threshold %d' % th_otsu)\n",
    "plt.axis('off')\n",
    "plt.subplot(122)\n",
    "plt.imshow(img1_blur_otsu, cmap='gray')\n",
    "plt.title('Gaussian+Otsu Threshold %d' % th_blur_otsu)\n",
    "plt.axis('off')"
   ]
  },
  {
   "cell_type": "markdown",
   "metadata": {},
   "source": [
    "# 2 Instance segmentation\n",
    "\n",
    "Lec. 6, Page 34-39"
   ]
  },
  {
   "cell_type": "code",
   "execution_count": null,
   "metadata": {},
   "outputs": [],
   "source": [
    "from skimage.measure import label\n",
    "from skimage.color import label2rgb\n",
    "\n",
    "\n",
    "seg_inst = label(img1_blur_otsu)\n",
    "\n",
    "plt.figure(figsize=(8, 8))\n",
    "plt.subplot(121)\n",
    "plt.imshow(seg_inst, cmap='gray')\n",
    "plt.title('direct visualization (hard to tell)')\n",
    "plt.axis('off')\n",
    "plt.subplot(122)\n",
    "plt.imshow(label2rgb(seg_inst, bg_label=0))\n",
    "plt.title('assign random colors')\n",
    "plt.axis('off')\n"
   ]
  },
  {
   "cell_type": "markdown",
   "metadata": {
    "id": "eLZxOOH-lsU3"
   },
   "source": [
    "# [4 pts] Exercise\n",
    "As pset1 is out, we'll make this lab light-weight :)\n",
    "\n",
    "Let's apply what we learnt above to a new type of cell image.\n",
    "- The cell borders are white now. The segments within the white borders are cells\n",
    "- No need to get perfect results. Something reasonable is good\n",
    "\n",
    "\n",
    "[[Segmentation of many different types of images/cells]](https://www.cellpose.org/)"
   ]
  },
  {
   "cell_type": "code",
   "execution_count": null,
   "metadata": {},
   "outputs": [],
   "source": [
    "from imageio import imread,imsave\n",
    "\n",
    "im = imread('lab4/cell.png')\n",
    "plt.imshow(im, cmap='gray')\n",
    "plt.axis('off')"
   ]
  },
  {
   "cell_type": "markdown",
   "metadata": {},
   "source": [
    "## (1) [1 pt] semantic segmentation\n",
    "\n",
    "Compute the binary image where the cell segments are 1 and background 0."
   ]
  },
  {
   "cell_type": "code",
   "execution_count": null,
   "metadata": {},
   "outputs": [],
   "source": [
    "### Your code starts here\n",
    "\n",
    "### Your code ends here"
   ]
  },
  {
   "cell_type": "markdown",
   "metadata": {},
   "source": [
    "## (2) [1 pt] Instance segmentation\n",
    "\n",
    "Based on the semantic segmentation above, try to assign indivisual cells to different segment ids and visualize them in random colors. (okay to have errors). "
   ]
  },
  {
   "cell_type": "code",
   "execution_count": null,
   "metadata": {},
   "outputs": [],
   "source": [
    "### Your code starts here\n",
    "\n",
    "### Your code ends here"
   ]
  },
  {
   "cell_type": "markdown",
   "metadata": {},
   "source": [
    "## (3) [2 pts] Error analysis\n",
    "\n",
    "- Manually find the bounding box and visualize the cropped image for a false merge error.\n",
    "- Repeat above for a false split error.\n",
    "\n",
    "If your instance segment is great, you can just say \"there's no error\".\n",
    "\n",
    "Lec. 6, Page 40"
   ]
  },
  {
   "cell_type": "code",
   "execution_count": null,
   "metadata": {},
   "outputs": [],
   "source": [
    "### Your code starts here\n",
    "\n",
    "### Your code ends here"
   ]
  }
 ],
 "metadata": {
  "colab": {
   "collapsed_sections": [],
   "name": "lab1.ipynb",
   "provenance": [
    {
     "file_id": "1_d49_U8Zrz_Ac-QWgXFBzr4CJ4S8fKe1",
     "timestamp": 1614174979410
    }
   ]
  },
  "kernelspec": {
   "display_name": "Python 3",
   "language": "python",
   "name": "python3"
  },
  "language_info": {
   "codemirror_mode": {
    "name": "ipython",
    "version": 3
   },
   "file_extension": ".py",
   "mimetype": "text/x-python",
   "name": "python",
   "nbconvert_exporter": "python",
   "pygments_lexer": "ipython3",
   "version": "3.8.8"
  },
  "varInspector": {
   "cols": {
    "lenName": 16,
    "lenType": 16,
    "lenVar": 40
   },
   "kernels_config": {
    "python": {
     "delete_cmd_postfix": "",
     "delete_cmd_prefix": "del ",
     "library": "var_list.py",
     "varRefreshCmd": "print(var_dic_list())"
    },
    "r": {
     "delete_cmd_postfix": ") ",
     "delete_cmd_prefix": "rm(",
     "library": "var_list.r",
     "varRefreshCmd": "cat(var_dic_list()) "
    }
   },
   "types_to_exclude": [
    "module",
    "function",
    "builtin_function_or_method",
    "instance",
    "_Feature"
   ],
   "window_display": false
  }
 },
 "nbformat": 4,
 "nbformat_minor": 4
}
