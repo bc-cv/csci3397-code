{
 "cells": [
  {
   "cell_type": "markdown",
   "metadata": {
    "id": "QuUAgQFQlsJU"
   },
   "source": [
    "# [CSCI 3397/PSYC 3317] Lab 4b: Image Segmentation and Measurement\n",
    "\n",
    "**Posted:** Thursday, February 10, 2022\n",
    "\n",
    "**Due:** Thursday, February 17, 2022\n",
    "\n",
    "__Total Points__: 6 pts\n",
    "\n",
    "__Submission__: please rename the .ipynb file as __\\<your_username\\>_lab4b.ipynb__ before you submit it to canvas. Example: weidf_lab4b.ipynb."
   ]
  },
  {
   "cell_type": "markdown",
   "metadata": {},
   "source": [
    "# 1. Watershed segmentation\n",
    "\n",
    "Lec. 7, Page 28-33"
   ]
  },
  {
   "cell_type": "code",
   "execution_count": null,
   "metadata": {},
   "outputs": [],
   "source": [
    "import sys\n",
    "sys.path.append('../')\n",
    "from T_util import plotImgPair\n",
    "from imageio import imread\n",
    "import matplotlib.pyplot as plt\n",
    "import numpy as np\n",
    "import cv2\n",
    "from skimage.measure import label\n",
    "from skimage.color import label2rgb\n",
    "\n",
    "im = imread('lab4/cell_overlapping.png')\n",
    "plt.imshow(im, cmap='gray')"
   ]
  },
  {
   "cell_type": "markdown",
   "metadata": {},
   "source": [
    "## 1.0 Step 0. Binary semantic segmentation\n",
    "\n",
    "Lec. 7, page 11"
   ]
  },
  {
   "cell_type": "code",
   "execution_count": null,
   "metadata": {},
   "outputs": [],
   "source": [
    "im_blur = cv2.GaussianBlur(im,(5,5),0)\n",
    "_, im_blur_otsu = cv2.threshold(im_blur, 0, 255, cv2.THRESH_BINARY+cv2.THRESH_OTSU)\n",
    "plotImgPair(im,im_blur_otsu, title=['input image', 'binary mask'])"
   ]
  },
  {
   "cell_type": "markdown",
   "metadata": {},
   "source": [
    "## 1.1 Step 1. Distance transform\n",
    "\n",
    "Lec. 7, page 31"
   ]
  },
  {
   "cell_type": "code",
   "execution_count": null,
   "metadata": {},
   "outputs": [],
   "source": [
    "from scipy import ndimage as ndi\n",
    "distance = ndi.distance_transform_edt(im_blur_otsu)\n",
    "plotImgPair(im_blur_otsu, distance, title=['binary mask', 'distance transform'])"
   ]
  },
  {
   "cell_type": "markdown",
   "metadata": {},
   "source": [
    "## 1.2 Step 2. Find local optima\n",
    "\n",
    "Lec. 7, page 32"
   ]
  },
  {
   "cell_type": "code",
   "execution_count": null,
   "metadata": {},
   "outputs": [],
   "source": [
    "from skimage.feature import peak_local_max\n",
    "\n",
    "optima_window_size = 21\n",
    "coords = peak_local_max(distance,\\\n",
    "                        footprint=np.ones((optima_window_size, optima_window_size)),\\\n",
    "                        labels=im_blur_otsu)\n",
    "mask = np.zeros(distance.shape, dtype=bool)\n",
    "mask[tuple(coords.T)] = True\n",
    "markers, _ = ndi.label(mask)\n",
    "\n",
    "# the points are small\n",
    "plotImgPair(mask, label2rgb(markers, bg_label=0), title=['local optima','each optima has a different seg id'])"
   ]
  },
  {
   "cell_type": "markdown",
   "metadata": {},
   "source": [
    "## 1.3 Step 3. Watershed transform\n",
    "\n",
    "Lec. 7, page 33"
   ]
  },
  {
   "cell_type": "code",
   "execution_count": null,
   "metadata": {},
   "outputs": [],
   "source": [
    "from skimage.segmentation import watershed\n",
    "seg_watershed = watershed(-distance, markers, mask=im_blur_otsu)\n",
    "plotImgPair(im, label2rgb(seg_watershed, bg_label=0), title=['input image','watershed segmentation'])"
   ]
  },
  {
   "cell_type": "markdown",
   "metadata": {},
   "source": [
    "# 2. Mathematical Morphology"
   ]
  },
  {
   "cell_type": "code",
   "execution_count": null,
   "metadata": {},
   "outputs": [],
   "source": [
    "import sys\n",
    "sys.path.append('../')\n",
    "from T_util import plotImgPair\n",
    "from imageio import imread\n",
    "import matplotlib.pyplot as plt\n",
    "import numpy as np\n",
    "from scipy.ndimage.morphology import binary_fill_holes\n",
    "from scipy.ndimage.morphology import binary_erosion,binary_dilation\n",
    "from scipy.ndimage.morphology import binary_closing,binary_opening"
   ]
  },
  {
   "cell_type": "markdown",
   "metadata": {},
   "source": [
    "## 2.1 Fill holes\n",
    "\n",
    "Lec.7, page 35"
   ]
  },
  {
   "cell_type": "code",
   "execution_count": null,
   "metadata": {},
   "outputs": [],
   "source": [
    "im_hole = imread('lab4/binary_hole.png')\n",
    "im_hole_out = binary_fill_holes(im_hole)\n",
    "plotImgPair(im_hole, im_hole_out, title=['input image', 'filled holes'])"
   ]
  },
  {
   "cell_type": "markdown",
   "metadata": {},
   "source": [
    "## 2.1 Erosion: remove noise\n",
    "\n",
    "Lec.7, page 37"
   ]
  },
  {
   "cell_type": "code",
   "execution_count": null,
   "metadata": {},
   "outputs": [],
   "source": [
    "im_noise = imread('lab4/binary_noise.png')\n",
    "im_noise_out = binary_erosion(im_noise, np.ones([3,3]), 1)\n",
    "plotImgPair(im_noise, im_noise_out, title=['input image', 'denoised image'])"
   ]
  },
  {
   "cell_type": "markdown",
   "metadata": {},
   "source": [
    "## 2.2 Dilation: Merge false split\n",
    "\n",
    "Lec.7, page 38"
   ]
  },
  {
   "cell_type": "code",
   "execution_count": null,
   "metadata": {},
   "outputs": [],
   "source": [
    "im_fs = imread('lab4/binary_fs.png')\n",
    "im_fs_out = binary_dilation(im_fs, np.ones([3,3]), 5)\n",
    "plotImgPair(im_fs, im_fs_out, title=['input image', 'merged false split'])"
   ]
  },
  {
   "cell_type": "markdown",
   "metadata": {},
   "source": [
    "## 2.3 Dilation: Merge false split + preserve original shape\n",
    "\n",
    "Lec.7, page 39"
   ]
  },
  {
   "cell_type": "code",
   "execution_count": null,
   "metadata": {},
   "outputs": [],
   "source": [
    "im_fs = imread('lab4/binary_fs.png')\n",
    "im_fs_close = binary_erosion(binary_dilation(im_fs, np.ones([3,3]), 5), np.ones([3,3]), 5)\n",
    "im_fs_close2 = binary_closing(im_fs, np.ones([3,3]), 5)\n",
    "plotImgPair(im_fs_close, im_fs_close2, title=['binary closing (Implementation 1)', 'binary closing (Implementation 2)'])"
   ]
  },
  {
   "cell_type": "markdown",
   "metadata": {},
   "source": [
    "## 2.4 Dilation: Merge false split\n",
    "\n",
    "Lec.7, page 40"
   ]
  },
  {
   "cell_type": "code",
   "execution_count": null,
   "metadata": {},
   "outputs": [],
   "source": [
    "im_fm = imread('lab4/binary_fm.png')\n",
    "#imsave('lab4/binary_fm.png', im_fm[::8,::8,0])\n",
    "im_fm_open = binary_dilation(binary_erosion(im_fm, np.ones([3,3]), 25), np.ones([3,3]), 25)\n",
    "im_fm_open2 = binary_opening(im_fm, np.ones([3,3]), 25)\n",
    "plotImgPair(im_fm, im_fm_open, title=['input image', 'split false merge'])"
   ]
  },
  {
   "cell_type": "code",
   "execution_count": null,
   "metadata": {},
   "outputs": [],
   "source": [
    "plotImgPair(im_fm_open, im_fm_open2, title=['binary opening (Implementation 1)', 'binary opening (Implementation 2)'])"
   ]
  },
  {
   "cell_type": "markdown",
   "metadata": {
    "id": "eLZxOOH-lsU3"
   },
   "source": [
    "# [6 pts] Exercise"
   ]
  },
  {
   "cell_type": "markdown",
   "metadata": {},
   "source": [
    "## (1) [2 pts] Adaptive Gaussian Thresholding\n",
    "\n",
    "Implement the algorithm described in Lec.7, page 14."
   ]
  },
  {
   "cell_type": "code",
   "execution_count": null,
   "metadata": {},
   "outputs": [],
   "source": [
    "from imageio import imread,imsave\n",
    "import matplotlib.pyplot as plt\n",
    "\n",
    "I_sudoku = imread('lab4/sudoku.png')\n",
    "plt.imshow(I_sudoku, cmap='gray')\n",
    "plt.axis('off')"
   ]
  },
  {
   "cell_type": "code",
   "execution_count": null,
   "metadata": {},
   "outputs": [],
   "source": [
    "### Your code starts here\n",
    "\n",
    "### Your code ends here"
   ]
  },
  {
   "cell_type": "markdown",
   "metadata": {},
   "source": [
    "## (2) [4 pts] Measurement and Table I/O\n",
    "\n",
    "- [1 pt] Use connected component method to do instance segmentation on `I_cell`\n",
    "- [1 pt] Find the circularity of all the segmented cells\n",
    "- [1 pt] Save the result into a csv file `cell_stats.csv` with header: {\"cell id\", \"circularity\"}\n",
    "- [1 pt] Load the result and plot the circularity histogram\n",
    "\n",
    "If your instance segment is great, you can just say \"there's no error\".\n",
    "\n",
    "Lec. 7, Page 25,43.46-47"
   ]
  },
  {
   "cell_type": "code",
   "execution_count": null,
   "metadata": {},
   "outputs": [],
   "source": [
    "from imageio import imread,imsave\n",
    "import matplotlib.pyplot as plt\n",
    "\n",
    "I_cell = imread('lab4/plant_cell_border.png')\n",
    "plt.imshow(I_cell, cmap='gray')\n",
    "plt.axis('off')"
   ]
  },
  {
   "cell_type": "code",
   "execution_count": null,
   "metadata": {},
   "outputs": [],
   "source": [
    "### Your code starts here\n",
    "\n",
    "### Your code ends here"
   ]
  }
 ],
 "metadata": {
  "colab": {
   "collapsed_sections": [],
   "name": "lab1.ipynb",
   "provenance": [
    {
     "file_id": "1_d49_U8Zrz_Ac-QWgXFBzr4CJ4S8fKe1",
     "timestamp": 1614174979410
    }
   ]
  },
  "kernelspec": {
   "display_name": "Python 3",
   "language": "python",
   "name": "python3"
  },
  "language_info": {
   "codemirror_mode": {
    "name": "ipython",
    "version": 3
   },
   "file_extension": ".py",
   "mimetype": "text/x-python",
   "name": "python",
   "nbconvert_exporter": "python",
   "pygments_lexer": "ipython3",
   "version": "3.8.8"
  },
  "varInspector": {
   "cols": {
    "lenName": 16,
    "lenType": 16,
    "lenVar": 40
   },
   "kernels_config": {
    "python": {
     "delete_cmd_postfix": "",
     "delete_cmd_prefix": "del ",
     "library": "var_list.py",
     "varRefreshCmd": "print(var_dic_list())"
    },
    "r": {
     "delete_cmd_postfix": ") ",
     "delete_cmd_prefix": "rm(",
     "library": "var_list.r",
     "varRefreshCmd": "cat(var_dic_list()) "
    }
   },
   "types_to_exclude": [
    "module",
    "function",
    "builtin_function_or_method",
    "instance",
    "_Feature"
   ],
   "window_display": false
  }
 },
 "nbformat": 4,
 "nbformat_minor": 4
}
