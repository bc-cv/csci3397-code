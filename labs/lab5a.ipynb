{
 "cells": [
  {
   "cell_type": "markdown",
   "metadata": {
    "id": "QuUAgQFQlsJU"
   },
   "source": [
    "# [CSCI 3397/PSYC 3317] Lab 5a: Machine Learning Overview\n",
    "\n",
    "**Posted:** Thursday, February 15, 2022\n",
    "\n",
    "**Due:** Thursday, February 24, 2022\n",
    "\n",
    "__Total Points__: 6 pts\n",
    "\n",
    "__Submission__: please rename the .ipynb file as __\\<your_username\\>_lab5a.ipynb__ before you submit it to canvas. Example: weidf_lab5a.ipynb."
   ]
  },
  {
   "cell_type": "markdown",
   "metadata": {},
   "source": [
    "# 0. Load data\n",
    "\n",
    "[[MedMNIST]](https://medmnist.com/)"
   ]
  },
  {
   "cell_type": "code",
   "execution_count": null,
   "metadata": {},
   "outputs": [],
   "source": [
    "! wget https://zenodo.org/record/5208230/files/pathmnist.npz -O lab5/pathmnist.npz"
   ]
  },
  {
   "cell_type": "code",
   "execution_count": null,
   "metadata": {},
   "outputs": [],
   "source": [
    "import numpy as np\n",
    "import matplotlib.pyplot as plt\n",
    "\n",
    "def tensorTo2D(tensor):\n",
    "    # only keep the first dimension: image index\n",
    "    # reshape the rest dimensions into one dimension\n",
    "    return tensor.reshape(tensor.shape[0], -1)\n",
    "\n",
    "data = np.load('lab5/pathmnist.npz')\n",
    "X_train = data['train_images'][::10]\n",
    "Y_train = data['train_labels'][::10]\n",
    "X_test = data['test_images'][::10]\n",
    "Y_test = data['test_labels'][::10]\n",
    "\n",
    "# ML assumes 2D input: N x feature input\n",
    "X_train_2d = tensorTo2D(X_train)\n",
    "X_test_2d = tensorTo2D(X_test)\n",
    "\n",
    "num_label = Y_train.max() + 1\n",
    "\n",
    "print('Train data size', X_train.shape)\n",
    "print('Test data size', X_test.shape)\n",
    "ui, uc = np.unique(Y_train, return_counts=True)\n",
    "print('#label', num_label)\n",
    "print('Train label counts', uc)"
   ]
  },
  {
   "cell_type": "code",
   "execution_count": null,
   "metadata": {},
   "outputs": [],
   "source": [
    "plt.figure(figsize=(12, 12))\n",
    "for i in range(9):\n",
    "    plt.subplot(3,3,i+1)\n",
    "    plt.imshow(X_train[i], cmap='gray')\n",
    "    plt.axis('off')\n",
    "    plt.title('class %d' % Y_train[i])"
   ]
  },
  {
   "cell_type": "markdown",
   "metadata": {},
   "source": [
    "# 1. Classification/Regression\n",
    "\n",
    "Lec. 8, Page 21-28\n",
    "K-nearest-neighbor classification method: \n",
    "[[Sklearn documentation]](https://scikit-learn.org/stable/modules/generated/sklearn.neighbors.KNeighborsClassifier.html)\n",
    "[[Explanation]](https://www.machinecurve.com/index.php/2020/04/16/how-to-perform-k-means-clustering-with-python-in-scikit/)"
   ]
  },
  {
   "cell_type": "code",
   "execution_count": null,
   "metadata": {},
   "outputs": [],
   "source": [
    "from sklearn.neighbors import KNeighborsClassifier\n",
    "# train the model\n",
    "knn = KNeighborsClassifier(n_neighbors = 7).fit(X_train_2d, Y_train)"
   ]
  },
  {
   "cell_type": "code",
   "execution_count": null,
   "metadata": {},
   "outputs": [],
   "source": [
    "# test the model\n",
    "knn_predictions = knn.predict(X_test_2d)"
   ]
  },
  {
   "cell_type": "code",
   "execution_count": null,
   "metadata": {},
   "outputs": [],
   "source": [
    "# evaluation\n",
    "acc = (knn_predictions-Y_test==0).sum()/len(Y_test)\n",
    "print('Test accuracy', acc)"
   ]
  },
  {
   "cell_type": "code",
   "execution_count": null,
   "metadata": {},
   "outputs": [],
   "source": [
    "# evaluation: confusion matrix (break down results for each class)\n",
    "from sklearn.metrics import confusion_matrix\n",
    "# evaluate the model\n",
    "cm = confusion_matrix(Y_test, knn_predictions)\n",
    "plt.imshow(cm)"
   ]
  },
  {
   "cell_type": "markdown",
   "metadata": {},
   "source": [
    "# 2. Clustering\n",
    "Kmeans clustering method: \n",
    "[[Sklearn documentation]](https://scikit-learn.org/stable/modules/generated/sklearn.cluster.KMeans.html)\n",
    "[[Explanation]](https://www.machinecurve.com/index.php/2020/04/16/how-to-perform-k-means-clustering-with-python-in-scikit/)\n",
    "\n",
    "Lec. 8, Page 29-30"
   ]
  },
  {
   "cell_type": "code",
   "execution_count": null,
   "metadata": {},
   "outputs": [],
   "source": [
    "# model training\n",
    "from sklearn.cluster import KMeans\n",
    "num_cluster = 5\n",
    "max_iter = 10000\n",
    "kmeans = KMeans(n_clusters = num_cluster, max_iter=max_iter)\n",
    "cluster_labels = kmeans.fit_predict(X_train_2d)"
   ]
  },
  {
   "cell_type": "code",
   "execution_count": null,
   "metadata": {},
   "outputs": [],
   "source": [
    "# visualization\n",
    "num_disp = 4\n",
    "plt.figure(figsize=(12, 12))\n",
    "for i in range(num_cluster):\n",
    "    index = np.where(cluster_labels==i)[0]\n",
    "    for j in range(num_disp):\n",
    "        plt.subplot(num_cluster, num_disp, i*num_disp+j+1)\n",
    "        plt.imshow(X_train[index[j]])\n",
    "        plt.axis('off')\n",
    "        if j == 0:\n",
    "            plt.title('cluster %d' % i)"
   ]
  },
  {
   "cell_type": "markdown",
   "metadata": {},
   "source": [
    "# 3. Dimension Reduction\n",
    "\n",
    "Principle component analysis (PCA) method: \n",
    "[[Sklearn documentation]](https://scikit-learn.org/stable/modules/generated/sklearn.decomposition.PCA.html)\n",
    "[[Example]](https://scikit-learn.org/stable/auto_examples/decomposition/plot_pca_iris.html)\n",
    "[[Explanation]](https://towardsdatascience.com/a-one-stop-shop-for-principal-component-analysis-5582fb7e0a9c)\n",
    "\n",
    "Lec. 8, Page 31-32"
   ]
  },
  {
   "cell_type": "code",
   "execution_count": null,
   "metadata": {},
   "outputs": [],
   "source": [
    "# model training\n",
    "from sklearn.decomposition import PCA\n",
    "pca = PCA(n_components=2)\n",
    "pca.fit(tensorTo2D(X_train))\n",
    "\n",
    "X_train_2d = pca.transform(X_train_2d)"
   ]
  },
  {
   "cell_type": "code",
   "execution_count": null,
   "metadata": {},
   "outputs": [],
   "source": [
    "# visualization\n",
    "cc='rgbcykm'\n",
    "plt.figure(figsize=(12, 12))\n",
    "for label in range(len(cc)):\n",
    "    index = Y_train[:,0]==label\n",
    "    plt.plot(X_train_2d[index,0], X_train_2d[index,1], cc[label]+'.')\n",
    "\n",
    "plt.legend(['cluster %d'%x for x in range(len(cc))])"
   ]
  },
  {
   "cell_type": "markdown",
   "metadata": {
    "id": "eLZxOOH-lsU3"
   },
   "source": [
    "# [6 pts] Exercise"
   ]
  },
  {
   "cell_type": "markdown",
   "metadata": {},
   "source": [
    "## (1) [2 pts] K-NN classification with different hyperparameters\n",
    "\n",
    "- [1 pt] Repeat section 1 classification on the test data with $K=\\{1,3,5,7,9,11\\}$ (different number of neighbors)\n",
    "- [2 pt] plot the test classification accuracy against $K$"
   ]
  },
  {
   "cell_type": "code",
   "execution_count": null,
   "metadata": {},
   "outputs": [],
   "source": [
    "### Your code starts here\n",
    "\n",
    "### Your code ends here"
   ]
  },
  {
   "cell_type": "markdown",
   "metadata": {},
   "source": [
    "## (2) [4 pts] Clustering after dimension reduction\n",
    "\n",
    "- [2 pts] repeat section 3 (PCA) for the training data with output dimension=10\n",
    "- [1 pt] repeat section 2 (K-means with K=5) for the 10-dim features above for the training data\n",
    "- [1 pt] Visualize the clustering result as in section 2"
   ]
  },
  {
   "cell_type": "code",
   "execution_count": null,
   "metadata": {},
   "outputs": [],
   "source": [
    "### Your code starts here\n",
    "\n",
    "### Your code ends here"
   ]
  }
 ],
 "metadata": {
  "colab": {
   "collapsed_sections": [],
   "name": "lab1.ipynb",
   "provenance": [
    {
     "file_id": "1_d49_U8Zrz_Ac-QWgXFBzr4CJ4S8fKe1",
     "timestamp": 1614174979410
    }
   ]
  },
  "kernelspec": {
   "display_name": "Python 3",
   "language": "python",
   "name": "python3"
  },
  "language_info": {
   "codemirror_mode": {
    "name": "ipython",
    "version": 3
   },
   "file_extension": ".py",
   "mimetype": "text/x-python",
   "name": "python",
   "nbconvert_exporter": "python",
   "pygments_lexer": "ipython3",
   "version": "3.8.8"
  },
  "varInspector": {
   "cols": {
    "lenName": 16,
    "lenType": 16,
    "lenVar": 40
   },
   "kernels_config": {
    "python": {
     "delete_cmd_postfix": "",
     "delete_cmd_prefix": "del ",
     "library": "var_list.py",
     "varRefreshCmd": "print(var_dic_list())"
    },
    "r": {
     "delete_cmd_postfix": ") ",
     "delete_cmd_prefix": "rm(",
     "library": "var_list.r",
     "varRefreshCmd": "cat(var_dic_list()) "
    }
   },
   "types_to_exclude": [
    "module",
    "function",
    "builtin_function_or_method",
    "instance",
    "_Feature"
   ],
   "window_display": false
  }
 },
 "nbformat": 4,
 "nbformat_minor": 4
}
