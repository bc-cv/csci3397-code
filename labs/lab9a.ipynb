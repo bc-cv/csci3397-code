{
 "cells": [
  {
   "cell_type": "markdown",
   "metadata": {},
   "source": [
    "# Lab 9a: on Colab\n",
    "\n",
    "TODO:\n",
    "- Click on the link, open with Colab, and save it as your own copy: <a href=\"https://drive.google.com/file/d/1bXohqc6DVMwYnEV16sh41ugqX7qxUSco/view?usp=sharing\"> Colab Link</a>\n",
    "- After finishing it, download the ipynb and upload it to canvas as before."
   ]
  }
 ],
 "metadata": {
  "accelerator": "GPU",
  "colab": {
   "collapsed_sections": [
    "Q6JDCwSuZO3r",
    "jWKPJqXLamdo"
   ],
   "name": "lab7b_sol.ipynb",
   "provenance": [
    {
     "file_id": "1hR-DQvve8uEX2zH8h4y1XgP1atKRUl0g",
     "timestamp": 1633281385748
    },
    {
     "file_id": "15ec--mRyf2Trd2zwdqWqLM_Qc4JX1iNw",
     "timestamp": 1551367509167
    }
   ],
   "toc_visible": true
  },
  "kernelspec": {
   "display_name": "Python 3",
   "language": "python",
   "name": "python3"
  },
  "language_info": {
   "codemirror_mode": {
    "name": "ipython",
    "version": 3
   },
   "file_extension": ".py",
   "mimetype": "text/x-python",
   "name": "python",
   "nbconvert_exporter": "python",
   "pygments_lexer": "ipython3",
   "version": "3.8.8"
  }
 },
 "nbformat": 4,
 "nbformat_minor": 4
}
