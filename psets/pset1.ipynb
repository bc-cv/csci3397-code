{
 "cells": [
  {
   "cell_type": "markdown",
   "metadata": {
    "id": "QuUAgQFQlsJU"
   },
   "source": [
    "# [CSCI 3397/PSYC 3317] Pset 1: Digitial Image Processing\n",
    "\n",
    "**Posted:** Wednesday, February 2, 2022\n",
    "\n",
    "**Due:** Wednesday, February 16, 2022\n",
    "\n",
    "__Total Points__: 10 pts\n",
    "\n",
    "__Submission__: please rename the .ipynb file as __\\<your_username\\>\\_pset1.ipynb__ before you submit it to canvas. Example: weidf_pset1.ipynb."
   ]
  },
  {
   "cell_type": "markdown",
   "metadata": {
    "id": "GVOsLEGclsJZ"
   },
   "source": [
    "# Welcome to Prof. Eric Folker's lab"
   ]
  },
  {
   "cell_type": "markdown",
   "metadata": {
    "id": "W0S-Mj2vXTzq"
   },
   "source": [
    "<b>Congratulations</b> for landing a reasearch assistant position at [Prof. Folker's lab](https://folkerlab.org/)!\n",
    "You will be responsible for analyzing microscopy images of the muscle fibers. \n",
    "\n",
    "<img src=\"https://media.makeameme.org/created/alright-world-bring.jpg\">"
   ]
  },
  {
   "cell_type": "markdown",
   "metadata": {
    "id": "weMMc2WZlsJc"
   },
   "source": [
    "# 1. (5 pts) Image Visualizaiton\n",
    "\n",
    "<b>Prof. Folker: Here's the `pset1/im.czi` image file fresh from the fluorescent microscope. Please show me what are in it. </b>\n",
    "\n",
    "TODO: \n",
    "- (a) [2 pts] Search online to find a python solution to read the image.\n",
    "- (b) [1 pt] Print the volume shape. Note that the volume has 2 channels and 10 different focal-planes.\n",
    "- (c) [2 pt] Take the 5-th (index start from 0) focal planes and visualize the 2 channels as a RGB image (nuclei as red; microtubules as green).\n",
    "\n",
    "Hints: \n",
    "- Lec. 2 (image modality), lab1b\n",
    "- (a) you may need `! pip install xxx` in a code block for installation. `!` tells jupyter that it's a linux terminal command instead of python code\n",
    "- (c) `np.squeeze()` can be helpful to remove the redundant dimensions\n",
    "- (c) You can look up Folker lab's web page image. We here simply use the red-channel instead of using the purple colormap for the nuclei"
   ]
  },
  {
   "cell_type": "code",
   "execution_count": null,
   "metadata": {},
   "outputs": [],
   "source": [
    "### Your code starts here\n",
    "\n",
    "### Your code endss here"
   ]
  },
  {
   "cell_type": "markdown",
   "metadata": {},
   "source": [
    "# 2. (1 pt) Image Enhancement\n",
    "\n",
    "<b>Prof. Folker: Good job. The image looks a bit dark. Can you help increase the image contrast?</b>\n",
    "\n",
    "TODO: \n",
    "- (a) [1 pt] Remove the outlier pixel (1% and 99% percentile) for each channel and scale each channel's range to 0-255\n",
    "\n",
    "Hints: \n",
    "- Lec. 3 (transfer function), lab2a  (lab3a has the function)"
   ]
  },
  {
   "cell_type": "code",
   "execution_count": null,
   "metadata": {
    "id": "bPWkPZ-3lsJ3"
   },
   "outputs": [],
   "source": [
    "### Your code starts here\n",
    "\n",
    "### Your code endss here"
   ]
  },
  {
   "cell_type": "markdown",
   "metadata": {},
   "source": [
    "# 3. (2 pts) Nucleus analysis\n",
    "\n",
    "<b>Prof. Folker: Looks much better! Can you help get me all the nuclei?</b>\n",
    "\n",
    "TODO: \n",
    "- (a) [1 pt] Apply a filter to remove the small noisy pixels in the nucleus channel\n",
    "- (b) [1 pt] Threshold the filtered nucleus channel to the binary mask of nucleus.\n",
    "\n",
    "\n",
    "Hints: \n",
    "- Lec. 3 (filtering function), lab2a  (lab2b has the filter)\n",
    "- (a) okay to directly use `cv2` functions \n",
    "- bigger patch size can remove the outliers"
   ]
  },
  {
   "cell_type": "code",
   "execution_count": null,
   "metadata": {},
   "outputs": [],
   "source": [
    "### Your code starts here\n",
    "\n",
    "### Your code endss here"
   ]
  },
  {
   "cell_type": "markdown",
   "metadata": {
    "id": "J7ijTZXQlsMC"
   },
   "source": [
    "# 4. (2 pts) Microtubule analysis\n",
    "\n",
    "<b>Prof. Folker: Well done! Can you help find the microtubules in the image?</b>\n",
    "\n",
    "TODO: \n",
    "- (a) [1 pt] Finish the function for DoG filter for robust edge detection\n",
    "- (b) [1 pt] Visualize DoG edge detection results on the microtubule channel with patch size 31 but different sigma to show edges at two different scales (one for thick edge and one for thin edge). The thick edges are actually from artifacts, while the thin edges are the microtubles.\n",
    "\n",
    "\n",
    "Hints: \n",
    "- Lec. 4 (edge detection), lab2b  (lab2b has the filter)\n",
    "- use `plt.figure(figsize=(16, 16))` to make the figure size bigger for a better visualization\n",
    "- it's okay if the result is not perfect"
   ]
  },
  {
   "cell_type": "code",
   "execution_count": null,
   "metadata": {
    "id": "34cv7N9nlsMI"
   },
   "outputs": [],
   "source": [
    "def DoG(I, kernel_size, sigma):\n",
    "    ### Your code starts here\n",
    "\n",
    "    ### Your code endss here\n",
    "    return Ig_DoG\n",
    "\n",
    "\n",
    "### Your code starts here\n",
    "\n",
    "### Your code endss here"
   ]
  }
 ],
 "metadata": {
  "colab": {
   "collapsed_sections": [],
   "name": "lab1.ipynb",
   "provenance": [
    {
     "file_id": "1_d49_U8Zrz_Ac-QWgXFBzr4CJ4S8fKe1",
     "timestamp": 1614174979410
    }
   ]
  },
  "kernelspec": {
   "display_name": "Python 3",
   "language": "python",
   "name": "python3"
  },
  "language_info": {
   "codemirror_mode": {
    "name": "ipython",
    "version": 3
   },
   "file_extension": ".py",
   "mimetype": "text/x-python",
   "name": "python",
   "nbconvert_exporter": "python",
   "pygments_lexer": "ipython3",
   "version": "3.8.8"
  },
  "varInspector": {
   "cols": {
    "lenName": 16,
    "lenType": 16,
    "lenVar": 40
   },
   "kernels_config": {
    "python": {
     "delete_cmd_postfix": "",
     "delete_cmd_prefix": "del ",
     "library": "var_list.py",
     "varRefreshCmd": "print(var_dic_list())"
    },
    "r": {
     "delete_cmd_postfix": ") ",
     "delete_cmd_prefix": "rm(",
     "library": "var_list.r",
     "varRefreshCmd": "cat(var_dic_list()) "
    }
   },
   "types_to_exclude": [
    "module",
    "function",
    "builtin_function_or_method",
    "instance",
    "_Feature"
   ],
   "window_display": false
  }
 },
 "nbformat": 4,
 "nbformat_minor": 4
}
